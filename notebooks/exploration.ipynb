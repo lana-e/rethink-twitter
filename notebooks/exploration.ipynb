{
 "cells": [
  {
   "cell_type": "markdown",
   "id": "c58c7116",
   "metadata": {},
   "source": [
    "# ReThink Media Twitter API\n",
    "\n",
    "This notebook is for the development and exploration of code for ReThink Media's Twitter API Python interface. The main goals of this notebook are:\n",
    "\n",
    "- Search Tweets: query, date (optional)\n",
    "  - Past seven days\n",
    "  - Past 30 days\n",
    "  - Full archive\n",
    "  - Language = English\n",
    "- Collect Tweets in .csv file\n",
    "- Add data visualization\n",
    "  - Top hashtags, keywords, influencers\n",
    "  - Volume over time for queries/topics"
   ]
  },
  {
   "cell_type": "code",
   "execution_count": 1,
   "id": "287c287d",
   "metadata": {},
   "outputs": [
    {
     "data": {
      "text/plain": [
       "True"
      ]
     },
     "execution_count": 1,
     "metadata": {},
     "output_type": "execute_result"
    }
   ],
   "source": [
    "# importing necessary modules\n",
    "from dotenv import load_dotenv\n",
    "import os\n",
    "import json\n",
    "import numpy as np\n",
    "import pandas as pd\n",
    "import tweepy\n",
    "\n",
    "load_dotenv()"
   ]
  },
  {
   "cell_type": "markdown",
   "id": "231dd27d",
   "metadata": {},
   "source": [
    "## Authentication\n",
    "\n",
    "The variables below are what allow access to the Twitter API. I've defined them in a `.env` file, and I'm retrieving them with the code below. We then pass those variables in to a tweepy client in order to instantiate a Twitter API instance."
   ]
  },
  {
   "cell_type": "code",
   "execution_count": 2,
   "id": "f36397af",
   "metadata": {},
   "outputs": [],
   "source": [
    "# retrieving environment variables\n",
    "consumer_key = os.getenv(\"API_KEY\")\n",
    "consumer_secret = os.getenv(\"API_KEY_SECRET\")\n",
    "bearer_token = os.getenv(\"BEARER_TOKEN\")\n",
    "access_token = os.getenv(\"ACCESS_TOKEN\")\n",
    "access_secret = os.getenv(\"ACCESS_SECRET\")"
   ]
  },
  {
   "cell_type": "code",
   "execution_count": 3,
   "id": "1c4483ed",
   "metadata": {},
   "outputs": [],
   "source": [
    "# Twitter API authentication\n",
    "auth = tweepy.OAuthHandler(consumer_key, consumer_secret)\n",
    "auth.set_access_token(access_token, access_secret)"
   ]
  },
  {
   "cell_type": "code",
   "execution_count": 4,
   "id": "1f1cf2b2",
   "metadata": {},
   "outputs": [
    {
     "data": {
      "text/plain": [
       "<tweepy.client.Client at 0x7fc4d6126700>"
      ]
     },
     "execution_count": 4,
     "metadata": {},
     "output_type": "execute_result"
    }
   ],
   "source": [
    "# instantiating a Twitter API instance\n",
    "api = tweepy.Client(bearer_token=bearer_token,\n",
    "                consumer_key=consumer_key,\n",
    "                consumer_secret=consumer_secret,\n",
    "                access_token=access_token,\n",
    "                access_token_secret=access_secret)\n",
    "api"
   ]
  },
  {
   "cell_type": "markdown",
   "id": "65ae32a1",
   "metadata": {},
   "source": [
    "## Recent Search\n",
    "\n",
    "The search function available to us in the Standard API package restricts our search to the past seven days, without a premium API dev subscription. For searches further back in the archive, we need to subscribe to a premium API dev environment or upgrade to the Academic API package, which is given to researchers with a clear thesis or research paper goal in mind.\n",
    "\n",
    "The query can be 512 characters maximum, and the user can specify a `start_time` and `end_time` (as `datetime` or `str` objects) within the past seven days. The user can also search for hashtags as well. The default behavior for white space is \"AND\" joins, e.g., hello world = hello AND world. More information about Twitter API queries can be found [in their documentation](https://developer.twitter.com/en/docs/twitter-api/tweets/search/integrate/build-a-query)."
   ]
  },
  {
   "cell_type": "code",
   "execution_count": 42,
   "id": "4e77c234",
   "metadata": {},
   "outputs": [],
   "source": [
    "# searching for \"hello world\" over the past seven days.\n",
    "response = api.search_recent_tweets(query=\"hello world lang:en\", max_results=20, tweet_fields=[\"referenced_tweets\"])"
   ]
  },
  {
   "cell_type": "markdown",
   "id": "7f187269",
   "metadata": {},
   "source": [
    "The `response` object is a tuple, and it consists of four items: `(data, includes, errors, meta)`.\n",
    "\n",
    "The `data` object contains the Tweets that are retrieved, and `meta` is the metadata for those Tweets. In this reponse object, `includes` and `errors` are empty, so I'm not sure what `includes` is yet."
   ]
  },
  {
   "cell_type": "code",
   "execution_count": 43,
   "id": "3518589f",
   "metadata": {},
   "outputs": [
    {
     "name": "stdout",
     "output_type": "stream",
     "text": [
      "Tweet 0:\n",
      "RT @MarkoSilberhand: Hello World,\n",
      "\n",
      "#Halloween is just around the corner . . .\n",
      "\n",
      "... are you already prepared ?\n",
      "\n",
      "🐾     🎃     😊     🎃     🐾 ht…\n",
      "\n",
      "Tweet 1:\n",
      "RT @SB19Official: 🎉 #SB19xATINAnnivMonth\n",
      "\n",
      "Hello to all A'TIN all around the world 💙\n",
      "\n",
      "We are glad to announce that we will be celebrating ou…\n",
      "\n",
      "Tweet 2:\n",
      "RT @MarkoSilberhand: Hello World,\n",
      "\n",
      "... because today is Monday . . .\n",
      "\n",
      "Greetings from Bilbo !\n",
      "\n",
      "🐾     💕     😊 https://t.co/LOWn7pLyIL\n",
      "\n",
      "Tweet 3:\n",
      "RT @KeysandAnklets: Hello everyone. I've been working on this for a very long time and I\"m happy to finally make it public knowledge and fo…\n",
      "\n",
      "Tweet 4:\n",
      "RT @MarkoSilberhand: Hello World,\n",
      "\n",
      "October 17, 2021\n",
      "A foggy day in Bavaria . . .\n",
      "\n",
      "... here are some impressions...\n",
      "\n",
      "🐾       💕       😊 https…\n",
      "\n",
      "Tweet 5:\n",
      "Hello world, the Iraqi people are demonstrating against the election results\n",
      "\n",
      "@Pontifex_es @UNarabic @UNICCairo @ChinaIraq @bbcmundo @bbcarabicalerts https://t.co/PxyJwuYkHU https://t.co/6lJKsi3jse\n",
      "\n",
      "Tweet 6:\n",
      "RT @sideframestudio: @berframe Hello we did something new for crypto world please go and check https://t.co/2CyZIHl0Ro\n",
      "\n",
      "Tweet 7:\n",
      "RT @SB19Official: 🎉 #SB19xATINAnnivMonth\n",
      "\n",
      "Hello to all A'TIN all around the world 💙\n",
      "\n",
      "We are glad to announce that we will be celebrating ou…\n",
      "\n",
      "Tweet 8:\n",
      "Hello @denkmit I've just caught up on world supers from the weekend. Considering they have rule balancing options how is Rea's Kawasaki still getting mullered in a straight line. Feels like it's not a particularly fair fight.\n",
      "\n",
      "Tweet 9:\n",
      "RT @MarkoSilberhand: Hello World,\n",
      "\n",
      "#Halloween is just around the corner . . .\n",
      "\n",
      "... are you already prepared ?\n",
      "\n",
      "🐾     🎃     😊     🎃     🐾 ht…\n",
      "\n",
      "Tweet 10:\n",
      "RT @SB19Official: 🎉 #SB19xATINAnnivMonth\n",
      "\n",
      "Hello to all A'TIN all around the world 💙\n",
      "\n",
      "We are glad to announce that we will be celebrating ou…\n",
      "\n",
      "Tweet 11:\n",
      "RT @HusbandsMj: Hello! I'm looking for university academics around the world to take part in a brief survey for a research project as part…\n",
      "\n",
      "Tweet 12:\n",
      "RT @coconutdogy: evil hello happy world be like https://t.co/Rq5wy5pCVx\n",
      "\n",
      "Tweet 13:\n",
      "RT @matchattea43: \"Hello, World!\" https://t.co/4VLacyKS5X\n",
      "\n",
      "Tweet 14:\n",
      "Hello Hello Myself? ‐ 『Hello, world』\n",
      "\n",
      "Tweet 15:\n",
      "RT @VTemp1ar: Hello World!\n",
      "For tonights game we will be doing a few hours of Subnautica 😨\n",
      "Then its time to unwind after with some lofi hip…\n",
      "\n",
      "Tweet 16:\n",
      "RT @chachacricketpk: Hello Pakistani Cricket Fans\n",
      "Get me to 10k Twitter Followers\n",
      "And You'll get a First Ever World Cup Win Against India o…\n",
      "\n",
      "Tweet 17:\n",
      "@Dino11975 @ApartmentBoss Meanwhile \"Hello Twitter World\" OJ is making videos, having fun. What's the point of firing people? To ruin their lives? So they never can work again? You move on anyways days later\n",
      "\n",
      "Tweet 18:\n",
      "RT @VentFinance: Say hello to CryptoXpress — THE LATEST IDO ON VENTUP! 🔥🎉\n",
      "\n",
      "@crypto_xpress is bridging the crypto world with everyday life t…\n",
      "\n",
      "Tweet 19:\n",
      "RT @ZEA_Cornelia: Hello it's a 3 AM reminder that I love Mushoku Tensei and that you guys should watch it too it's good if you like good wo…\n",
      "\n"
     ]
    }
   ],
   "source": [
    "# printing Tweets\n",
    "for i in range(len(response[0])):\n",
    "    print(f\"Tweet {i}:\")\n",
    "    print(response[0][i]['text']+\"\\n\")"
   ]
  },
  {
   "cell_type": "code",
   "execution_count": 40,
   "id": "03501810",
   "metadata": {},
   "outputs": [
    {
     "data": {
      "text/plain": [
       "{'newest_id': '1450523929580347395',\n",
       " 'oldest_id': '1450522936138289152',\n",
       " 'result_count': 20,\n",
       " 'next_token': 'b26v89c19zqg8o3fpdv5skkl0vnw1kmoonar7upoakbr1'}"
      ]
     },
     "execution_count": 40,
     "metadata": {},
     "output_type": "execute_result"
    }
   ],
   "source": [
    "# printing metadata for Tweets in response\n",
    "response[3]"
   ]
  },
  {
   "cell_type": "markdown",
   "id": "7fa88ebe",
   "metadata": {},
   "source": [
    "## 30-Day/Full Archive Search\n",
    "\n",
    "We can access 30-day and full archive searches without an Academic API package with a premium development environment through the Twitter API. This requires interfacing with the API v1.1, as opposed to v2 in the Recent Search."
   ]
  },
  {
   "cell_type": "code",
   "execution_count": 44,
   "id": "72a19d68",
   "metadata": {},
   "outputs": [],
   "source": [
    "# initializing API v1.1\n",
    "api1 = tweepy.API(auth)"
   ]
  },
  {
   "cell_type": "code",
   "execution_count": 47,
   "id": "2e0c8547",
   "metadata": {},
   "outputs": [],
   "source": [
    "response_30 = api1.search_30_day(label=\"30day\", query=\"hello world lang:en\", maxResults=20)"
   ]
  },
  {
   "cell_type": "code",
   "execution_count": 49,
   "id": "e4c6540d",
   "metadata": {
    "scrolled": true
   },
   "outputs": [
    {
     "data": {
      "text/plain": [
       "20"
      ]
     },
     "execution_count": 49,
     "metadata": {},
     "output_type": "execute_result"
    }
   ],
   "source": [
    "len(response_30)"
   ]
  },
  {
   "cell_type": "code",
   "execution_count": 51,
   "id": "d4e094f0",
   "metadata": {},
   "outputs": [
    {
     "data": {
      "text/plain": [
       "tweepy.models.Status"
      ]
     },
     "execution_count": 51,
     "metadata": {},
     "output_type": "execute_result"
    }
   ],
   "source": [
    "type(response_30[0])"
   ]
  },
  {
   "cell_type": "markdown",
   "id": "d8966a38",
   "metadata": {},
   "source": [
    "The `tweepy.models.Status` object contains a lot of data about the Tweet, such as its text, its author, and various aspects of metadata about the Tweet's creation and interactions."
   ]
  },
  {
   "cell_type": "code",
   "execution_count": 68,
   "id": "84849572",
   "metadata": {},
   "outputs": [
    {
     "data": {
      "text/plain": [
       "{'created_at': 'Tue Oct 19 20:13:43 +0000 2021',\n",
       " 'id': 1450555783477960704,\n",
       " 'id_str': '1450555783477960704',\n",
       " 'text': \"Hello everyone! I finally made a Twitter for my Sims 4 Machinima World! I'm currently trying to find out the kinks… https://t.co/l8SdcJtkM4\",\n",
       " 'display_text_range': [0, 140],\n",
       " 'source': '<a href=\"https://mobile.twitter.com\" rel=\"nofollow\">Twitter Web App</a>',\n",
       " 'truncated': True,\n",
       " 'in_reply_to_status_id': None,\n",
       " 'in_reply_to_status_id_str': None,\n",
       " 'in_reply_to_user_id': None,\n",
       " 'in_reply_to_user_id_str': None,\n",
       " 'in_reply_to_screen_name': None,\n",
       " 'user': {'id': 1450536534499811331,\n",
       "  'id_str': '1450536534499811331',\n",
       "  'name': 'Esmee Simnematic',\n",
       "  'screen_name': 'EsmeeSimnematic',\n",
       "  'location': 'SimNation',\n",
       "  'url': 'https://www.youtube.com/channel/UCBSK-8JM9CLzhwuw_bBuNfA',\n",
       "  'description': '⚠️CURRENTLY UNDER CONSTRUCTION⚠️\\nThis is my official Twitter account for my Sims 4 Machinima world, series, BTS screenshots and videos! 18+ minors DNI',\n",
       "  'translator_type': 'none',\n",
       "  'protected': False,\n",
       "  'verified': False,\n",
       "  'followers_count': 0,\n",
       "  'friends_count': 6,\n",
       "  'listed_count': 0,\n",
       "  'favourites_count': 0,\n",
       "  'statuses_count': 2,\n",
       "  'created_at': 'Tue Oct 19 18:57:27 +0000 2021',\n",
       "  'utc_offset': None,\n",
       "  'time_zone': None,\n",
       "  'geo_enabled': False,\n",
       "  'lang': None,\n",
       "  'contributors_enabled': False,\n",
       "  'is_translator': False,\n",
       "  'profile_background_color': 'F5F8FA',\n",
       "  'profile_background_image_url': '',\n",
       "  'profile_background_image_url_https': '',\n",
       "  'profile_background_tile': False,\n",
       "  'profile_link_color': '1DA1F2',\n",
       "  'profile_sidebar_border_color': 'C0DEED',\n",
       "  'profile_sidebar_fill_color': 'DDEEF6',\n",
       "  'profile_text_color': '333333',\n",
       "  'profile_use_background_image': True,\n",
       "  'profile_image_url': 'http://pbs.twimg.com/profile_images/1450537035417194497/SvuWnhAL_normal.jpg',\n",
       "  'profile_image_url_https': 'https://pbs.twimg.com/profile_images/1450537035417194497/SvuWnhAL_normal.jpg',\n",
       "  'profile_banner_url': 'https://pbs.twimg.com/profile_banners/1450536534499811331/1634670264',\n",
       "  'default_profile': True,\n",
       "  'default_profile_image': False,\n",
       "  'following': None,\n",
       "  'follow_request_sent': None,\n",
       "  'notifications': None,\n",
       "  'withheld_in_countries': []},\n",
       " 'geo': None,\n",
       " 'coordinates': None,\n",
       " 'place': None,\n",
       " 'contributors': None,\n",
       " 'is_quote_status': False,\n",
       " 'extended_tweet': {'full_text': \"Hello everyone! I finally made a Twitter for my Sims 4 Machinima World! I'm currently trying to find out the kinks and stuff of trying to gain reach for my machinima series on YouTube, so this is just a light message that my account is currently under construction!\\n\\n(+) https://t.co/yjR5qG8tie\",\n",
       "  'display_text_range': [0, 270],\n",
       "  'entities': {'hashtags': [],\n",
       "   'urls': [],\n",
       "   'user_mentions': [],\n",
       "   'symbols': [],\n",
       "   'media': [{'id': 1450554993153433605,\n",
       "     'id_str': '1450554993153433605',\n",
       "     'indices': [271, 294],\n",
       "     'media_url': 'http://pbs.twimg.com/media/FCFoFLYUYAU0WYz.jpg',\n",
       "     'media_url_https': 'https://pbs.twimg.com/media/FCFoFLYUYAU0WYz.jpg',\n",
       "     'url': 'https://t.co/yjR5qG8tie',\n",
       "     'display_url': 'pic.twitter.com/yjR5qG8tie',\n",
       "     'expanded_url': 'https://twitter.com/EsmeeSimnematic/status/1450555783477960704/photo/1',\n",
       "     'type': 'photo',\n",
       "     'sizes': {'thumb': {'w': 150, 'h': 150, 'resize': 'crop'},\n",
       "      'small': {'w': 680, 'h': 383, 'resize': 'fit'},\n",
       "      'large': {'w': 1920, 'h': 1080, 'resize': 'fit'},\n",
       "      'medium': {'w': 1200, 'h': 675, 'resize': 'fit'}}}]},\n",
       "  'extended_entities': {'media': [{'id': 1450554993153433605,\n",
       "     'id_str': '1450554993153433605',\n",
       "     'indices': [271, 294],\n",
       "     'media_url': 'http://pbs.twimg.com/media/FCFoFLYUYAU0WYz.jpg',\n",
       "     'media_url_https': 'https://pbs.twimg.com/media/FCFoFLYUYAU0WYz.jpg',\n",
       "     'url': 'https://t.co/yjR5qG8tie',\n",
       "     'display_url': 'pic.twitter.com/yjR5qG8tie',\n",
       "     'expanded_url': 'https://twitter.com/EsmeeSimnematic/status/1450555783477960704/photo/1',\n",
       "     'type': 'photo',\n",
       "     'sizes': {'thumb': {'w': 150, 'h': 150, 'resize': 'crop'},\n",
       "      'small': {'w': 680, 'h': 383, 'resize': 'fit'},\n",
       "      'large': {'w': 1920, 'h': 1080, 'resize': 'fit'},\n",
       "      'medium': {'w': 1200, 'h': 675, 'resize': 'fit'}}}]}},\n",
       " 'quote_count': 0,\n",
       " 'reply_count': 1,\n",
       " 'retweet_count': 0,\n",
       " 'favorite_count': 0,\n",
       " 'entities': {'hashtags': [],\n",
       "  'urls': [{'url': 'https://t.co/l8SdcJtkM4',\n",
       "    'expanded_url': 'https://twitter.com/i/web/status/1450555783477960704',\n",
       "    'display_url': 'twitter.com/i/web/status/1…',\n",
       "    'indices': [116, 139]}],\n",
       "  'user_mentions': [],\n",
       "  'symbols': []},\n",
       " 'favorited': False,\n",
       " 'retweeted': False,\n",
       " 'possibly_sensitive': False,\n",
       " 'filter_level': 'low',\n",
       " 'lang': 'en',\n",
       " 'matching_rules': [{'tag': None}]}"
      ]
     },
     "execution_count": 68,
     "metadata": {},
     "output_type": "execute_result"
    }
   ],
   "source": [
    "response_30[0]._json"
   ]
  },
  {
   "cell_type": "code",
   "execution_count": 69,
   "id": "f75efc47",
   "metadata": {},
   "outputs": [],
   "source": [
    "response_full = api1.search_full_archive(label=\"full\", query=\"hello world lang:en\", maxResults=20)"
   ]
  },
  {
   "cell_type": "code",
   "execution_count": 70,
   "id": "609a89f3",
   "metadata": {},
   "outputs": [
    {
     "data": {
      "text/plain": [
       "{'created_at': 'Tue Oct 19 20:38:43 +0000 2021',\n",
       " 'id': 1450562073205874697,\n",
       " 'id_str': '1450562073205874697',\n",
       " 'text': '@KMbappe Eberhard grossgasteiger 📸\\nhello sen doubt the best photographer in the world amazing shot.… https://t.co/BhX4WLQPxO',\n",
       " 'display_text_range': [0, 140],\n",
       " 'source': '<a href=\"http://twitter.com/download/android\" rel=\"nofollow\">Twitter for Android</a>',\n",
       " 'truncated': True,\n",
       " 'in_reply_to_status_id': None,\n",
       " 'in_reply_to_status_id_str': None,\n",
       " 'in_reply_to_user_id': 1725137533,\n",
       " 'in_reply_to_user_id_str': '1725137533',\n",
       " 'in_reply_to_screen_name': 'KMbappe',\n",
       " 'user': {'id': 1431013728384860165,\n",
       "  'id_str': '1431013728384860165',\n",
       "  'name': 'ahmsbeny',\n",
       "  'screen_name': 'hamidon2021',\n",
       "  'location': 'Roche-la-Molière, France',\n",
       "  'url': None,\n",
       "  'description': 'Noormale',\n",
       "  'translator_type': 'none',\n",
       "  'protected': False,\n",
       "  'verified': False,\n",
       "  'followers_count': 11,\n",
       "  'friends_count': 25,\n",
       "  'listed_count': 0,\n",
       "  'favourites_count': 213,\n",
       "  'statuses_count': 878,\n",
       "  'created_at': 'Thu Aug 26 22:01:11 +0000 2021',\n",
       "  'utc_offset': None,\n",
       "  'time_zone': None,\n",
       "  'geo_enabled': False,\n",
       "  'lang': None,\n",
       "  'contributors_enabled': False,\n",
       "  'is_translator': False,\n",
       "  'profile_background_color': 'F5F8FA',\n",
       "  'profile_background_image_url': '',\n",
       "  'profile_background_image_url_https': '',\n",
       "  'profile_background_tile': False,\n",
       "  'profile_link_color': '1DA1F2',\n",
       "  'profile_sidebar_border_color': 'C0DEED',\n",
       "  'profile_sidebar_fill_color': 'DDEEF6',\n",
       "  'profile_text_color': '333333',\n",
       "  'profile_use_background_image': True,\n",
       "  'profile_image_url': 'http://pbs.twimg.com/profile_images/1444405859560329221/VfZ5QxYn_normal.jpg',\n",
       "  'profile_image_url_https': 'https://pbs.twimg.com/profile_images/1444405859560329221/VfZ5QxYn_normal.jpg',\n",
       "  'profile_banner_url': 'https://pbs.twimg.com/profile_banners/1431013728384860165/1632943945',\n",
       "  'default_profile': True,\n",
       "  'default_profile_image': False,\n",
       "  'following': None,\n",
       "  'follow_request_sent': None,\n",
       "  'notifications': None,\n",
       "  'withheld_in_countries': []},\n",
       " 'geo': None,\n",
       " 'coordinates': None,\n",
       " 'place': None,\n",
       " 'contributors': None,\n",
       " 'is_quote_status': False,\n",
       " 'extended_tweet': {'full_text': '@KMbappe Eberhard grossgasteiger 📸\\nhello sen doubt the best photographer in the world amazing shot.https://t.co/0ozEyXaQ6t\\nAfter Me lol ...\\nhttps://t.co/XRrYWBVGAq https://t.co/GN91JGLSkj',\n",
       "  'display_text_range': [0, 163],\n",
       "  'entities': {'hashtags': [],\n",
       "   'urls': [{'url': 'https://t.co/0ozEyXaQ6t',\n",
       "     'expanded_url': 'https://www.pexels.com/@eberhardgross',\n",
       "     'display_url': 'pexels.com/@eberhardgross',\n",
       "     'indices': [99, 122]},\n",
       "    {'url': 'https://t.co/XRrYWBVGAq',\n",
       "     'expanded_url': 'https://www.pexels.com/@jeff-larson-109764660',\n",
       "     'display_url': 'pexels.com/@jeff-larson-1…',\n",
       "     'indices': [140, 163]}],\n",
       "   'user_mentions': [{'screen_name': 'KMbappe',\n",
       "     'name': 'Kylian Mbappé',\n",
       "     'id': 1725137533,\n",
       "     'id_str': '1725137533',\n",
       "     'indices': [0, 8]}],\n",
       "   'symbols': [],\n",
       "   'media': [{'id': 1450562070701764608,\n",
       "     'id_str': '1450562070701764608',\n",
       "     'indices': [164, 187],\n",
       "     'media_url': 'http://pbs.twimg.com/media/FCFuhJTVcAAQYeb.jpg',\n",
       "     'media_url_https': 'https://pbs.twimg.com/media/FCFuhJTVcAAQYeb.jpg',\n",
       "     'url': 'https://t.co/GN91JGLSkj',\n",
       "     'display_url': 'pic.twitter.com/GN91JGLSkj',\n",
       "     'expanded_url': 'https://twitter.com/hamidon2021/status/1450562073205874697/photo/1',\n",
       "     'type': 'photo',\n",
       "     'sizes': {'thumb': {'w': 150, 'h': 150, 'resize': 'crop'},\n",
       "      'small': {'w': 314, 'h': 680, 'resize': 'fit'},\n",
       "      'large': {'w': 946, 'h': 2048, 'resize': 'fit'},\n",
       "      'medium': {'w': 554, 'h': 1200, 'resize': 'fit'}}}]},\n",
       "  'extended_entities': {'media': [{'id': 1450562070701764608,\n",
       "     'id_str': '1450562070701764608',\n",
       "     'indices': [164, 187],\n",
       "     'media_url': 'http://pbs.twimg.com/media/FCFuhJTVcAAQYeb.jpg',\n",
       "     'media_url_https': 'https://pbs.twimg.com/media/FCFuhJTVcAAQYeb.jpg',\n",
       "     'url': 'https://t.co/GN91JGLSkj',\n",
       "     'display_url': 'pic.twitter.com/GN91JGLSkj',\n",
       "     'expanded_url': 'https://twitter.com/hamidon2021/status/1450562073205874697/photo/1',\n",
       "     'type': 'photo',\n",
       "     'sizes': {'thumb': {'w': 150, 'h': 150, 'resize': 'crop'},\n",
       "      'small': {'w': 314, 'h': 680, 'resize': 'fit'},\n",
       "      'large': {'w': 946, 'h': 2048, 'resize': 'fit'},\n",
       "      'medium': {'w': 554, 'h': 1200, 'resize': 'fit'}}}]}},\n",
       " 'quote_count': 0,\n",
       " 'reply_count': 0,\n",
       " 'retweet_count': 0,\n",
       " 'favorite_count': 0,\n",
       " 'entities': {'hashtags': [],\n",
       "  'urls': [{'url': 'https://t.co/BhX4WLQPxO',\n",
       "    'expanded_url': 'https://twitter.com/i/web/status/1450562073205874697',\n",
       "    'display_url': 'twitter.com/i/web/status/1…',\n",
       "    'indices': [101, 124]}],\n",
       "  'user_mentions': [{'screen_name': 'KMbappe',\n",
       "    'name': 'Kylian Mbappé',\n",
       "    'id': 1725137533,\n",
       "    'id_str': '1725137533',\n",
       "    'indices': [0, 8]}],\n",
       "  'symbols': []},\n",
       " 'favorited': False,\n",
       " 'retweeted': False,\n",
       " 'possibly_sensitive': False,\n",
       " 'filter_level': 'low',\n",
       " 'lang': 'en',\n",
       " 'matching_rules': [{'tag': None}]}"
      ]
     },
     "execution_count": 70,
     "metadata": {},
     "output_type": "execute_result"
    }
   ],
   "source": [
    "response_full[0]._json"
   ]
  },
  {
   "cell_type": "markdown",
   "id": "db124f67",
   "metadata": {},
   "source": [
    "## Stream\n",
    "\n",
    "A Stream is an object that can filter and sample realtime Tweets."
   ]
  },
  {
   "cell_type": "code",
   "execution_count": 11,
   "id": "e5750ee5",
   "metadata": {},
   "outputs": [
    {
     "data": {
      "text/plain": [
       "<tweepy.streaming.Stream at 0x7fc4d6038130>"
      ]
     },
     "execution_count": 11,
     "metadata": {},
     "output_type": "execute_result"
    }
   ],
   "source": [
    "# instantiating Stream object\n",
    "stream = tweepy.Stream(consumer_key, consumer_secret, access_token, access_secret)\n",
    "stream"
   ]
  },
  {
   "cell_type": "code",
   "execution_count": 17,
   "id": "059b07ad",
   "metadata": {},
   "outputs": [
    {
     "ename": "KeyboardInterrupt",
     "evalue": "",
     "output_type": "error",
     "traceback": [
      "\u001b[0;31m---------------------------------------------------------------------------\u001b[0m",
      "\u001b[0;31mKeyboardInterrupt\u001b[0m                         Traceback (most recent call last)",
      "\u001b[0;32m/tmp/ipykernel_161/2814195145.py\u001b[0m in \u001b[0;36m<module>\u001b[0;34m\u001b[0m\n\u001b[0;32m----> 1\u001b[0;31m \u001b[0mstream\u001b[0m\u001b[0;34m.\u001b[0m\u001b[0msample\u001b[0m\u001b[0;34m(\u001b[0m\u001b[0mlanguages\u001b[0m\u001b[0;34m=\u001b[0m\u001b[0;34m[\u001b[0m\u001b[0;34m\"en\"\u001b[0m\u001b[0;34m]\u001b[0m\u001b[0;34m)\u001b[0m\u001b[0;34m\u001b[0m\u001b[0;34m\u001b[0m\u001b[0m\n\u001b[0m",
      "\u001b[0;32m~/anaconda3/envs/twitter/lib/python3.9/site-packages/tweepy/streaming.py\u001b[0m in \u001b[0;36msample\u001b[0;34m(self, languages, stall_warnings, threaded)\u001b[0m\n\u001b[1;32m    314\u001b[0m             \u001b[0;32mreturn\u001b[0m \u001b[0mself\u001b[0m\u001b[0;34m.\u001b[0m\u001b[0m_threaded_connect\u001b[0m\u001b[0;34m(\u001b[0m\u001b[0mmethod\u001b[0m\u001b[0;34m,\u001b[0m \u001b[0mendpoint\u001b[0m\u001b[0;34m,\u001b[0m \u001b[0mparams\u001b[0m\u001b[0;34m=\u001b[0m\u001b[0mparams\u001b[0m\u001b[0;34m)\u001b[0m\u001b[0;34m\u001b[0m\u001b[0;34m\u001b[0m\u001b[0m\n\u001b[1;32m    315\u001b[0m         \u001b[0;32melse\u001b[0m\u001b[0;34m:\u001b[0m\u001b[0;34m\u001b[0m\u001b[0;34m\u001b[0m\u001b[0m\n\u001b[0;32m--> 316\u001b[0;31m             \u001b[0mself\u001b[0m\u001b[0;34m.\u001b[0m\u001b[0m_connect\u001b[0m\u001b[0;34m(\u001b[0m\u001b[0mmethod\u001b[0m\u001b[0;34m,\u001b[0m \u001b[0mendpoint\u001b[0m\u001b[0;34m,\u001b[0m \u001b[0mparams\u001b[0m\u001b[0;34m=\u001b[0m\u001b[0mparams\u001b[0m\u001b[0;34m)\u001b[0m\u001b[0;34m\u001b[0m\u001b[0;34m\u001b[0m\u001b[0m\n\u001b[0m\u001b[1;32m    317\u001b[0m \u001b[0;34m\u001b[0m\u001b[0m\n\u001b[1;32m    318\u001b[0m     \u001b[0;32mdef\u001b[0m \u001b[0mdisconnect\u001b[0m\u001b[0;34m(\u001b[0m\u001b[0mself\u001b[0m\u001b[0;34m)\u001b[0m\u001b[0;34m:\u001b[0m\u001b[0;34m\u001b[0m\u001b[0;34m\u001b[0m\u001b[0m\n",
      "\u001b[0;32m~/anaconda3/envs/twitter/lib/python3.9/site-packages/tweepy/streaming.py\u001b[0m in \u001b[0;36m_connect\u001b[0;34m(self, method, endpoint, params, headers, body)\u001b[0m\n\u001b[1;32m    127\u001b[0m                                 \u001b[0;32mbreak\u001b[0m\u001b[0;34m\u001b[0m\u001b[0;34m\u001b[0m\u001b[0m\n\u001b[1;32m    128\u001b[0m \u001b[0;34m\u001b[0m\u001b[0m\n\u001b[0;32m--> 129\u001b[0;31m                             for line in resp.iter_lines(\n\u001b[0m\u001b[1;32m    130\u001b[0m                                 \u001b[0mchunk_size\u001b[0m\u001b[0;34m=\u001b[0m\u001b[0mself\u001b[0m\u001b[0;34m.\u001b[0m\u001b[0mchunk_size\u001b[0m\u001b[0;34m\u001b[0m\u001b[0;34m\u001b[0m\u001b[0m\n\u001b[1;32m    131\u001b[0m                             ):\n",
      "\u001b[0;32m~/anaconda3/envs/twitter/lib/python3.9/site-packages/requests/models.py\u001b[0m in \u001b[0;36miter_lines\u001b[0;34m(self, chunk_size, decode_unicode, delimiter)\u001b[0m\n\u001b[1;32m    800\u001b[0m         \u001b[0mpending\u001b[0m \u001b[0;34m=\u001b[0m \u001b[0;32mNone\u001b[0m\u001b[0;34m\u001b[0m\u001b[0;34m\u001b[0m\u001b[0m\n\u001b[1;32m    801\u001b[0m \u001b[0;34m\u001b[0m\u001b[0m\n\u001b[0;32m--> 802\u001b[0;31m         \u001b[0;32mfor\u001b[0m \u001b[0mchunk\u001b[0m \u001b[0;32min\u001b[0m \u001b[0mself\u001b[0m\u001b[0;34m.\u001b[0m\u001b[0miter_content\u001b[0m\u001b[0;34m(\u001b[0m\u001b[0mchunk_size\u001b[0m\u001b[0;34m=\u001b[0m\u001b[0mchunk_size\u001b[0m\u001b[0;34m,\u001b[0m \u001b[0mdecode_unicode\u001b[0m\u001b[0;34m=\u001b[0m\u001b[0mdecode_unicode\u001b[0m\u001b[0;34m)\u001b[0m\u001b[0;34m:\u001b[0m\u001b[0;34m\u001b[0m\u001b[0;34m\u001b[0m\u001b[0m\n\u001b[0m\u001b[1;32m    803\u001b[0m \u001b[0;34m\u001b[0m\u001b[0m\n\u001b[1;32m    804\u001b[0m             \u001b[0;32mif\u001b[0m \u001b[0mpending\u001b[0m \u001b[0;32mis\u001b[0m \u001b[0;32mnot\u001b[0m \u001b[0;32mNone\u001b[0m\u001b[0;34m:\u001b[0m\u001b[0;34m\u001b[0m\u001b[0;34m\u001b[0m\u001b[0m\n",
      "\u001b[0;32m~/anaconda3/envs/twitter/lib/python3.9/site-packages/requests/models.py\u001b[0m in \u001b[0;36mgenerate\u001b[0;34m()\u001b[0m\n\u001b[1;32m    756\u001b[0m             \u001b[0;32mif\u001b[0m \u001b[0mhasattr\u001b[0m\u001b[0;34m(\u001b[0m\u001b[0mself\u001b[0m\u001b[0;34m.\u001b[0m\u001b[0mraw\u001b[0m\u001b[0;34m,\u001b[0m \u001b[0;34m'stream'\u001b[0m\u001b[0;34m)\u001b[0m\u001b[0;34m:\u001b[0m\u001b[0;34m\u001b[0m\u001b[0;34m\u001b[0m\u001b[0m\n\u001b[1;32m    757\u001b[0m                 \u001b[0;32mtry\u001b[0m\u001b[0;34m:\u001b[0m\u001b[0;34m\u001b[0m\u001b[0;34m\u001b[0m\u001b[0m\n\u001b[0;32m--> 758\u001b[0;31m                     \u001b[0;32mfor\u001b[0m \u001b[0mchunk\u001b[0m \u001b[0;32min\u001b[0m \u001b[0mself\u001b[0m\u001b[0;34m.\u001b[0m\u001b[0mraw\u001b[0m\u001b[0;34m.\u001b[0m\u001b[0mstream\u001b[0m\u001b[0;34m(\u001b[0m\u001b[0mchunk_size\u001b[0m\u001b[0;34m,\u001b[0m \u001b[0mdecode_content\u001b[0m\u001b[0;34m=\u001b[0m\u001b[0;32mTrue\u001b[0m\u001b[0;34m)\u001b[0m\u001b[0;34m:\u001b[0m\u001b[0;34m\u001b[0m\u001b[0;34m\u001b[0m\u001b[0m\n\u001b[0m\u001b[1;32m    759\u001b[0m                         \u001b[0;32myield\u001b[0m \u001b[0mchunk\u001b[0m\u001b[0;34m\u001b[0m\u001b[0;34m\u001b[0m\u001b[0m\n\u001b[1;32m    760\u001b[0m                 \u001b[0;32mexcept\u001b[0m \u001b[0mProtocolError\u001b[0m \u001b[0;32mas\u001b[0m \u001b[0me\u001b[0m\u001b[0;34m:\u001b[0m\u001b[0;34m\u001b[0m\u001b[0;34m\u001b[0m\u001b[0m\n",
      "\u001b[0;32m~/anaconda3/envs/twitter/lib/python3.9/site-packages/urllib3/response.py\u001b[0m in \u001b[0;36mstream\u001b[0;34m(self, amt, decode_content)\u001b[0m\n\u001b[1;32m    570\u001b[0m         \"\"\"\n\u001b[1;32m    571\u001b[0m         \u001b[0;32mif\u001b[0m \u001b[0mself\u001b[0m\u001b[0;34m.\u001b[0m\u001b[0mchunked\u001b[0m \u001b[0;32mand\u001b[0m \u001b[0mself\u001b[0m\u001b[0;34m.\u001b[0m\u001b[0msupports_chunked_reads\u001b[0m\u001b[0;34m(\u001b[0m\u001b[0;34m)\u001b[0m\u001b[0;34m:\u001b[0m\u001b[0;34m\u001b[0m\u001b[0;34m\u001b[0m\u001b[0m\n\u001b[0;32m--> 572\u001b[0;31m             \u001b[0;32mfor\u001b[0m \u001b[0mline\u001b[0m \u001b[0;32min\u001b[0m \u001b[0mself\u001b[0m\u001b[0;34m.\u001b[0m\u001b[0mread_chunked\u001b[0m\u001b[0;34m(\u001b[0m\u001b[0mamt\u001b[0m\u001b[0;34m,\u001b[0m \u001b[0mdecode_content\u001b[0m\u001b[0;34m=\u001b[0m\u001b[0mdecode_content\u001b[0m\u001b[0;34m)\u001b[0m\u001b[0;34m:\u001b[0m\u001b[0;34m\u001b[0m\u001b[0;34m\u001b[0m\u001b[0m\n\u001b[0m\u001b[1;32m    573\u001b[0m                 \u001b[0;32myield\u001b[0m \u001b[0mline\u001b[0m\u001b[0;34m\u001b[0m\u001b[0;34m\u001b[0m\u001b[0m\n\u001b[1;32m    574\u001b[0m         \u001b[0;32melse\u001b[0m\u001b[0;34m:\u001b[0m\u001b[0;34m\u001b[0m\u001b[0;34m\u001b[0m\u001b[0m\n",
      "\u001b[0;32m~/anaconda3/envs/twitter/lib/python3.9/site-packages/urllib3/response.py\u001b[0m in \u001b[0;36mread_chunked\u001b[0;34m(self, amt, decode_content)\u001b[0m\n\u001b[1;32m    762\u001b[0m \u001b[0;34m\u001b[0m\u001b[0m\n\u001b[1;32m    763\u001b[0m             \u001b[0;32mwhile\u001b[0m \u001b[0;32mTrue\u001b[0m\u001b[0;34m:\u001b[0m\u001b[0;34m\u001b[0m\u001b[0;34m\u001b[0m\u001b[0m\n\u001b[0;32m--> 764\u001b[0;31m                 \u001b[0mself\u001b[0m\u001b[0;34m.\u001b[0m\u001b[0m_update_chunk_length\u001b[0m\u001b[0;34m(\u001b[0m\u001b[0;34m)\u001b[0m\u001b[0;34m\u001b[0m\u001b[0;34m\u001b[0m\u001b[0m\n\u001b[0m\u001b[1;32m    765\u001b[0m                 \u001b[0;32mif\u001b[0m \u001b[0mself\u001b[0m\u001b[0;34m.\u001b[0m\u001b[0mchunk_left\u001b[0m \u001b[0;34m==\u001b[0m \u001b[0;36m0\u001b[0m\u001b[0;34m:\u001b[0m\u001b[0;34m\u001b[0m\u001b[0;34m\u001b[0m\u001b[0m\n\u001b[1;32m    766\u001b[0m                     \u001b[0;32mbreak\u001b[0m\u001b[0;34m\u001b[0m\u001b[0;34m\u001b[0m\u001b[0m\n",
      "\u001b[0;32m~/anaconda3/envs/twitter/lib/python3.9/site-packages/urllib3/response.py\u001b[0m in \u001b[0;36m_update_chunk_length\u001b[0;34m(self)\u001b[0m\n\u001b[1;32m    692\u001b[0m         \u001b[0;32mif\u001b[0m \u001b[0mself\u001b[0m\u001b[0;34m.\u001b[0m\u001b[0mchunk_left\u001b[0m \u001b[0;32mis\u001b[0m \u001b[0;32mnot\u001b[0m \u001b[0;32mNone\u001b[0m\u001b[0;34m:\u001b[0m\u001b[0;34m\u001b[0m\u001b[0;34m\u001b[0m\u001b[0m\n\u001b[1;32m    693\u001b[0m             \u001b[0;32mreturn\u001b[0m\u001b[0;34m\u001b[0m\u001b[0;34m\u001b[0m\u001b[0m\n\u001b[0;32m--> 694\u001b[0;31m         \u001b[0mline\u001b[0m \u001b[0;34m=\u001b[0m \u001b[0mself\u001b[0m\u001b[0;34m.\u001b[0m\u001b[0m_fp\u001b[0m\u001b[0;34m.\u001b[0m\u001b[0mfp\u001b[0m\u001b[0;34m.\u001b[0m\u001b[0mreadline\u001b[0m\u001b[0;34m(\u001b[0m\u001b[0;34m)\u001b[0m\u001b[0;34m\u001b[0m\u001b[0;34m\u001b[0m\u001b[0m\n\u001b[0m\u001b[1;32m    695\u001b[0m         \u001b[0mline\u001b[0m \u001b[0;34m=\u001b[0m \u001b[0mline\u001b[0m\u001b[0;34m.\u001b[0m\u001b[0msplit\u001b[0m\u001b[0;34m(\u001b[0m\u001b[0;34mb\";\"\u001b[0m\u001b[0;34m,\u001b[0m \u001b[0;36m1\u001b[0m\u001b[0;34m)\u001b[0m\u001b[0;34m[\u001b[0m\u001b[0;36m0\u001b[0m\u001b[0;34m]\u001b[0m\u001b[0;34m\u001b[0m\u001b[0;34m\u001b[0m\u001b[0m\n\u001b[1;32m    696\u001b[0m         \u001b[0;32mtry\u001b[0m\u001b[0;34m:\u001b[0m\u001b[0;34m\u001b[0m\u001b[0;34m\u001b[0m\u001b[0m\n",
      "\u001b[0;32m~/anaconda3/envs/twitter/lib/python3.9/socket.py\u001b[0m in \u001b[0;36mreadinto\u001b[0;34m(self, b)\u001b[0m\n\u001b[1;32m    702\u001b[0m         \u001b[0;32mwhile\u001b[0m \u001b[0;32mTrue\u001b[0m\u001b[0;34m:\u001b[0m\u001b[0;34m\u001b[0m\u001b[0;34m\u001b[0m\u001b[0m\n\u001b[1;32m    703\u001b[0m             \u001b[0;32mtry\u001b[0m\u001b[0;34m:\u001b[0m\u001b[0;34m\u001b[0m\u001b[0;34m\u001b[0m\u001b[0m\n\u001b[0;32m--> 704\u001b[0;31m                 \u001b[0;32mreturn\u001b[0m \u001b[0mself\u001b[0m\u001b[0;34m.\u001b[0m\u001b[0m_sock\u001b[0m\u001b[0;34m.\u001b[0m\u001b[0mrecv_into\u001b[0m\u001b[0;34m(\u001b[0m\u001b[0mb\u001b[0m\u001b[0;34m)\u001b[0m\u001b[0;34m\u001b[0m\u001b[0;34m\u001b[0m\u001b[0m\n\u001b[0m\u001b[1;32m    705\u001b[0m             \u001b[0;32mexcept\u001b[0m \u001b[0mtimeout\u001b[0m\u001b[0;34m:\u001b[0m\u001b[0;34m\u001b[0m\u001b[0;34m\u001b[0m\u001b[0m\n\u001b[1;32m    706\u001b[0m                 \u001b[0mself\u001b[0m\u001b[0;34m.\u001b[0m\u001b[0m_timeout_occurred\u001b[0m \u001b[0;34m=\u001b[0m \u001b[0;32mTrue\u001b[0m\u001b[0;34m\u001b[0m\u001b[0;34m\u001b[0m\u001b[0m\n",
      "\u001b[0;32m~/anaconda3/envs/twitter/lib/python3.9/ssl.py\u001b[0m in \u001b[0;36mrecv_into\u001b[0;34m(self, buffer, nbytes, flags)\u001b[0m\n\u001b[1;32m   1239\u001b[0m                   \u001b[0;34m\"non-zero flags not allowed in calls to recv_into() on %s\"\u001b[0m \u001b[0;34m%\u001b[0m\u001b[0;34m\u001b[0m\u001b[0;34m\u001b[0m\u001b[0m\n\u001b[1;32m   1240\u001b[0m                   self.__class__)\n\u001b[0;32m-> 1241\u001b[0;31m             \u001b[0;32mreturn\u001b[0m \u001b[0mself\u001b[0m\u001b[0;34m.\u001b[0m\u001b[0mread\u001b[0m\u001b[0;34m(\u001b[0m\u001b[0mnbytes\u001b[0m\u001b[0;34m,\u001b[0m \u001b[0mbuffer\u001b[0m\u001b[0;34m)\u001b[0m\u001b[0;34m\u001b[0m\u001b[0;34m\u001b[0m\u001b[0m\n\u001b[0m\u001b[1;32m   1242\u001b[0m         \u001b[0;32melse\u001b[0m\u001b[0;34m:\u001b[0m\u001b[0;34m\u001b[0m\u001b[0;34m\u001b[0m\u001b[0m\n\u001b[1;32m   1243\u001b[0m             \u001b[0;32mreturn\u001b[0m \u001b[0msuper\u001b[0m\u001b[0;34m(\u001b[0m\u001b[0;34m)\u001b[0m\u001b[0;34m.\u001b[0m\u001b[0mrecv_into\u001b[0m\u001b[0;34m(\u001b[0m\u001b[0mbuffer\u001b[0m\u001b[0;34m,\u001b[0m \u001b[0mnbytes\u001b[0m\u001b[0;34m,\u001b[0m \u001b[0mflags\u001b[0m\u001b[0;34m)\u001b[0m\u001b[0;34m\u001b[0m\u001b[0;34m\u001b[0m\u001b[0m\n",
      "\u001b[0;32m~/anaconda3/envs/twitter/lib/python3.9/ssl.py\u001b[0m in \u001b[0;36mread\u001b[0;34m(self, len, buffer)\u001b[0m\n\u001b[1;32m   1097\u001b[0m         \u001b[0;32mtry\u001b[0m\u001b[0;34m:\u001b[0m\u001b[0;34m\u001b[0m\u001b[0;34m\u001b[0m\u001b[0m\n\u001b[1;32m   1098\u001b[0m             \u001b[0;32mif\u001b[0m \u001b[0mbuffer\u001b[0m \u001b[0;32mis\u001b[0m \u001b[0;32mnot\u001b[0m \u001b[0;32mNone\u001b[0m\u001b[0;34m:\u001b[0m\u001b[0;34m\u001b[0m\u001b[0;34m\u001b[0m\u001b[0m\n\u001b[0;32m-> 1099\u001b[0;31m                 \u001b[0;32mreturn\u001b[0m \u001b[0mself\u001b[0m\u001b[0;34m.\u001b[0m\u001b[0m_sslobj\u001b[0m\u001b[0;34m.\u001b[0m\u001b[0mread\u001b[0m\u001b[0;34m(\u001b[0m\u001b[0mlen\u001b[0m\u001b[0;34m,\u001b[0m \u001b[0mbuffer\u001b[0m\u001b[0;34m)\u001b[0m\u001b[0;34m\u001b[0m\u001b[0;34m\u001b[0m\u001b[0m\n\u001b[0m\u001b[1;32m   1100\u001b[0m             \u001b[0;32melse\u001b[0m\u001b[0;34m:\u001b[0m\u001b[0;34m\u001b[0m\u001b[0;34m\u001b[0m\u001b[0m\n\u001b[1;32m   1101\u001b[0m                 \u001b[0;32mreturn\u001b[0m \u001b[0mself\u001b[0m\u001b[0;34m.\u001b[0m\u001b[0m_sslobj\u001b[0m\u001b[0;34m.\u001b[0m\u001b[0mread\u001b[0m\u001b[0;34m(\u001b[0m\u001b[0mlen\u001b[0m\u001b[0;34m)\u001b[0m\u001b[0;34m\u001b[0m\u001b[0;34m\u001b[0m\u001b[0m\n",
      "\u001b[0;31mKeyboardInterrupt\u001b[0m: "
     ]
    }
   ],
   "source": [
    "stream.sample(languages=[\"en\"])"
   ]
  },
  {
   "cell_type": "code",
   "execution_count": null,
   "id": "14da4f98",
   "metadata": {},
   "outputs": [],
   "source": []
  }
 ],
 "metadata": {
  "kernelspec": {
   "display_name": "Python 3 (ipykernel)",
   "language": "python",
   "name": "python3"
  },
  "language_info": {
   "codemirror_mode": {
    "name": "ipython",
    "version": 3
   },
   "file_extension": ".py",
   "mimetype": "text/x-python",
   "name": "python",
   "nbconvert_exporter": "python",
   "pygments_lexer": "ipython3",
   "version": "3.9.7"
  }
 },
 "nbformat": 4,
 "nbformat_minor": 5
}
