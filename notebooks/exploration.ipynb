{
 "cells": [
  {
   "cell_type": "code",
   "execution_count": 22,
   "id": "287c287d",
   "metadata": {},
   "outputs": [
    {
     "data": {
      "text/plain": [
       "True"
      ]
     },
     "execution_count": 22,
     "metadata": {},
     "output_type": "execute_result"
    }
   ],
   "source": [
    "# importing necessary modules\n",
    "from dotenv import load_dotenv\n",
    "import os\n",
    "import json\n",
    "import numpy as np\n",
    "import pandas as pd\n",
    "import tweepy\n",
    "\n",
    "load_dotenv()"
   ]
  },
  {
   "cell_type": "code",
   "execution_count": 2,
   "id": "f36397af",
   "metadata": {},
   "outputs": [],
   "source": [
    "# retrieving environment variables\n",
    "consumer_key = os.getenv(\"API_KEY\")\n",
    "consumer_secret = os.getenv(\"API_KEY_SECRET\")\n",
    "bearer_token = os.getenv(\"BEARER_TOKEN\")\n",
    "access_token = os.getenv(\"ACCESS_TOKEN\")\n",
    "access_secret = os.getenv(\"ACCESS_SECRET\")"
   ]
  },
  {
   "cell_type": "code",
   "execution_count": 16,
   "id": "1c4483ed",
   "metadata": {},
   "outputs": [],
   "source": [
    "auth = tweepy.OAuthHandler(consumer_key, consumer_secret)\n",
    "auth.set_access_token(access_token, access_secret)"
   ]
  },
  {
   "cell_type": "code",
   "execution_count": 4,
   "id": "1f1cf2b2",
   "metadata": {},
   "outputs": [],
   "source": [
    "api = tweepy.Client(bearer_token=bearer_token,\n",
    "                consumer_key=consumer_key,\n",
    "                consumer_secret=consumer_secret,\n",
    "                access_token=access_token,\n",
    "                access_token_secret=access_secret)"
   ]
  },
  {
   "cell_type": "code",
   "execution_count": 6,
   "id": "782dc61c",
   "metadata": {},
   "outputs": [
    {
     "data": {
      "text/plain": [
       "<tweepy.client.Client at 0x7fc79c3cbf40>"
      ]
     },
     "execution_count": 6,
     "metadata": {},
     "output_type": "execute_result"
    }
   ],
   "source": [
    "api"
   ]
  },
  {
   "cell_type": "code",
   "execution_count": 23,
   "id": "4e77c234",
   "metadata": {},
   "outputs": [],
   "source": [
    "response = api.search_recent_tweets(query=\"hello world\", max_results=20)"
   ]
  },
  {
   "cell_type": "code",
   "execution_count": 41,
   "id": "3518589f",
   "metadata": {},
   "outputs": [
    {
     "name": "stdout",
     "output_type": "stream",
     "text": [
      "Tweet 0:\n",
      "Welcome to the new world of never talking to an actual human to get things done or help. Hello AI 🤯🔫\n",
      "\n",
      "Tweet 1:\n",
      "RT @Beaver_Finance: Hello World:) https://t.co/V95DtgW1zs\n",
      "\n",
      "Tweet 2:\n",
      "RT @BurcuOzberkRUS: 🔥 MORE COPIES ON THE WAY 🔥\n",
      "\n",
      "INTERNATIONAL FANS!!!\n",
      "If you want to buy 'HELLO Magazine', please DM \n",
      "@yagmuurcoskunn\n",
      "She’s…\n",
      "\n",
      "Tweet 3:\n",
      "RT @Beaver_Finance: Hello World:) https://t.co/V95DtgW1zs\n",
      "\n",
      "Tweet 4:\n",
      "@jessykalycious Tipo isso aqui: https://t.co/evgTEtS26T\n",
      "\n",
      "Tweet 5:\n",
      "RT @Beaver_Finance: Hello World:) https://t.co/V95DtgW1zs\n",
      "\n",
      "Tweet 6:\n",
      "RT @chachacricketpk: Hello Pakistani Cricket Fans\n",
      "Get me to 10k Twitter Followers\n",
      "And You'll get a First Ever World Cup Win Against India o…\n",
      "\n",
      "Tweet 7:\n",
      "RT @DMudrevskiy: Hello world! Today I send with 64 @solana-wallets on smart-contract @RaydiumProtocol 636.508916679 $SOL (~67.000$). I full…\n",
      "\n",
      "Tweet 8:\n",
      "Hello world!\n",
      "\n",
      "Tweet 9:\n",
      "RT @DMudrevskiy: Hello world! Today I send with 64 @solana-wallets on smart-contract @RaydiumProtocol 636.508916679 $SOL (~67.000$). I full…\n",
      "\n",
      "Tweet 10:\n",
      "RT @Beaver_Finance: Hello World:) https://t.co/V95DtgW1zs\n",
      "\n",
      "Tweet 11:\n",
      "覚えてしまった感覚 思い出とは違う類 もっと涙の側にあって いつも心臓掴まれていて 十分理解できている ずっとそれと一緒 そうじゃないと 何も見えないから 【Hello,world!】BUMP OF CHICKEN\n",
      "\n",
      "Tweet 12:\n",
      "RT @helloworld_nfts: Buy the #NFT of Hello World! in #Ansible. Ansible is a radically simple #IT #automation engine that automates #cloud p…\n",
      "\n",
      "Tweet 13:\n",
      "RT @Beaver_Finance: Hello World:) https://t.co/V95DtgW1zs\n",
      "\n",
      "Tweet 14:\n",
      "Herrrr!!!! 🔥🔥🔥Ghana no deserve @stonebwoyb . He is too big for Ghana music industry.\n",
      "He is an asset \n",
      "Hello world except Ghana and Togo  @stonebwoyb for sale .\n",
      "Contact his management for the price. https://t.co/13MbzPyMJl\n",
      "\n",
      "Tweet 15:\n",
      "RT @Beaver_Finance: Hello World:) https://t.co/V95DtgW1zs\n",
      "\n",
      "Tweet 16:\n",
      "RT @Jihye_is_jihye: Hello cat lovers!\n",
      "I am artist Sophia Kim\n",
      "This is my self drawing project to record wild cat.\n",
      "I just dived into NFT worl…\n",
      "\n",
      "Tweet 17:\n",
      "This is hello kitty velvet's world and we're all living in it\n",
      "\n",
      "Tweet 18:\n",
      "RT @mondaykyungsoo: HELLO WE ARE MIDWAY THROUGH OCTOBER AT THIS POINT IN TIME, AND GHOSTLY OCCURRENCES SEEM TO MULTIPLY EACH DAY, LEADING U…\n",
      "\n",
      "Tweet 19:\n",
      "Hello cat lovers!\n",
      "I am artist Sophia Kim\n",
      "This is my self drawing project to record wild cat.\n",
      "I just dived into NFT world 😂 I am  not  really  get  used  to  it  but  world  changes  so  so  so  fast  and  afraid  to  catch  up  that  speed.  \n",
      "#NFT #catlovers   #artwork https://t.co/1JhCLn18IB\n",
      "\n"
     ]
    }
   ],
   "source": [
    "for i in range(len(response[0])):\n",
    "    print(f\"Tweet {i}:\")\n",
    "    print(response[0][i]['text']+\"\\n\")"
   ]
  },
  {
   "cell_type": "code",
   "execution_count": null,
   "id": "03501810",
   "metadata": {},
   "outputs": [],
   "source": []
  }
 ],
 "metadata": {
  "kernelspec": {
   "display_name": "Python 3 (ipykernel)",
   "language": "python",
   "name": "python3"
  },
  "language_info": {
   "codemirror_mode": {
    "name": "ipython",
    "version": 3
   },
   "file_extension": ".py",
   "mimetype": "text/x-python",
   "name": "python",
   "nbconvert_exporter": "python",
   "pygments_lexer": "ipython3",
   "version": "3.9.7"
  }
 },
 "nbformat": 4,
 "nbformat_minor": 5
}
