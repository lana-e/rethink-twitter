{
 "cells": [
  {
   "cell_type": "markdown",
   "id": "c58c7116",
   "metadata": {},
   "source": [
    "# ReThink Media Twitter API\n",
    "\n",
    "This notebook is for the development and exploration of code for ReThink Media's Twitter API Python interface. The main goals of this notebook are:\n",
    "\n",
    "- Search Tweets: query, date (optional)\n",
    "  - Past seven days\n",
    "  - Past 30 days\n",
    "  - Full archive\n",
    "  - Language = English\n",
    "- Collect Tweets in .csv file\n",
    "- Add data visualization\n",
    "  - Top hashtags, keywords, influencers\n",
    "  - Volume over time for queries/topics"
   ]
  },
  {
   "cell_type": "code",
   "execution_count": 2,
   "id": "287c287d",
   "metadata": {},
   "outputs": [
    {
     "data": {
      "text/plain": [
       "True"
      ]
     },
     "execution_count": 2,
     "metadata": {},
     "output_type": "execute_result"
    }
   ],
   "source": [
    "# importing necessary modules\n",
    "from dotenv import load_dotenv\n",
    "import os\n",
    "import json\n",
    "import numpy as np\n",
    "import pandas as pd\n",
    "import tweepy\n",
    "\n",
    "load_dotenv()"
   ]
  },
  {
   "cell_type": "markdown",
   "id": "231dd27d",
   "metadata": {},
   "source": [
    "## Authentication\n",
    "\n",
    "The variables below are what allow access to the Twitter API. I've defined them in a `.env` file, and I'm retrieving them with the code below. We then pass those variables in to a tweepy client in order to instantiate a Twitter API instance."
   ]
  },
  {
   "cell_type": "code",
   "execution_count": 3,
   "id": "f36397af",
   "metadata": {},
   "outputs": [],
   "source": [
    "# retrieving environment variables\n",
    "consumer_key = os.getenv(\"API_KEY\")\n",
    "consumer_secret = os.getenv(\"API_KEY_SECRET\")\n",
    "bearer_token = os.getenv(\"BEARER_TOKEN\")\n",
    "access_token = os.getenv(\"ACCESS_TOKEN\")\n",
    "access_secret = os.getenv(\"ACCESS_SECRET\")"
   ]
  },
  {
   "cell_type": "code",
   "execution_count": 4,
   "id": "1c4483ed",
   "metadata": {},
   "outputs": [],
   "source": [
    "# Twitter API authentication\n",
    "auth = tweepy.OAuthHandler(consumer_key, consumer_secret)\n",
    "auth.set_access_token(access_token, access_secret)"
   ]
  },
  {
   "cell_type": "code",
   "execution_count": 20,
   "id": "d9e2fef1",
   "metadata": {},
   "outputs": [],
   "source": [
    "# function to initialize Twitter API v1.1 instance (for 30-day and full archive search)\n",
    "def init_api_1():\n",
    "    \n",
    "    # importing necessary modules\n",
    "    from dotenv import load_dotenv\n",
    "    import os\n",
    "    import tweepy\n",
    "    \n",
    "    # retrieving environment variables from .env file\n",
    "    consumer_key = os.getenv(\"API_KEY\")\n",
    "    consumer_secret = os.getenv(\"API_KEY_SECRET\")\n",
    "    bearer_token = os.getenv(\"BEARER_TOKEN\")\n",
    "    access_token = os.getenv(\"ACCESS_TOKEN\")\n",
    "    access_secret = os.getenv(\"ACCESS_SECRET\")\n",
    "    \n",
    "    # Twitter API authentication\n",
    "    auth = tweepy.OAuthHandler(consumer_key, consumer_secret)\n",
    "    auth.set_access_token(access_token, access_secret)\n",
    "    \n",
    "    # instantiating Twitter API v1.1 reference\n",
    "    api_1 = tweepy.API(auth)\n",
    "    \n",
    "    return api_1"
   ]
  },
  {
   "cell_type": "code",
   "execution_count": 23,
   "id": "820699b1",
   "metadata": {},
   "outputs": [],
   "source": [
    "# function to initialize Twitter API v2 instance (for 7-day search)\n",
    "def init_api_2():\n",
    "    # importing necessary modules\n",
    "    from dotenv import load_dotenv\n",
    "    import os\n",
    "    import tweepy\n",
    "    \n",
    "    # retrieving environment variables from .env file\n",
    "    consumer_key = os.getenv(\"API_KEY\")\n",
    "    consumer_secret = os.getenv(\"API_KEY_SECRET\")\n",
    "    bearer_token = os.getenv(\"BEARER_TOKEN\")\n",
    "    access_token = os.getenv(\"ACCESS_TOKEN\")\n",
    "    access_secret = os.getenv(\"ACCESS_SECRET\")\n",
    "    \n",
    "    # instantiating Twitter API v2 reference\n",
    "    api_2 = tweepy.Client(bearer_token=bearer_token,\n",
    "                         consumer_key=consumer_key,\n",
    "                         consumer_secret=consumer_secret,\n",
    "                         access_token=access_token,\n",
    "                         access_token_secret=access_secret)\n",
    "    \n",
    "    return api_2"
   ]
  },
  {
   "cell_type": "markdown",
   "id": "65ae32a1",
   "metadata": {},
   "source": [
    "## Recent Search\n",
    "\n",
    "The search function available to us in the Standard API package restricts our search to the past seven days, without a premium API dev subscription. For searches further back in the archive, we need to subscribe to a premium API dev environment or upgrade to the Academic API package, which is given to researchers with a clear thesis or research paper goal in mind.\n",
    "\n",
    "The query can be 512 characters maximum, and the user can specify a `start_time` and `end_time` (as `datetime` or `str` objects) within the past seven days. The user can also search for hashtags as well. The default behavior for white space is \"AND\" joins, e.g., hello world = hello AND world. More information about Twitter API queries can be found [in their documentation](https://developer.twitter.com/en/docs/twitter-api/tweets/search/integrate/build-a-query).\n",
    "\n",
    "The 7-day search can receive an unlimited number of requests and 500,000 Tweets per month."
   ]
  },
  {
   "cell_type": "code",
   "execution_count": 45,
   "id": "786dbbce",
   "metadata": {},
   "outputs": [
    {
     "data": {
      "text/plain": [
       "<tweepy.client.Client at 0x7f02beaec820>"
      ]
     },
     "execution_count": 45,
     "metadata": {},
     "output_type": "execute_result"
    }
   ],
   "source": [
    "# instantiating a Twitter API v2 instance\n",
    "api2 = tweepy.Client(bearer_token=bearer_token,\n",
    "                consumer_key=consumer_key,\n",
    "                consumer_secret=consumer_secret,\n",
    "                access_token=access_token,\n",
    "                access_token_secret=access_secret)\n",
    "api2"
   ]
  },
  {
   "cell_type": "code",
   "execution_count": 46,
   "id": "4e77c234",
   "metadata": {},
   "outputs": [],
   "source": [
    "# searching for \"hello world\" over the past seven days.\n",
    "response = api2.search_recent_tweets(query=\"hello world lang:en\", max_results=20, expansions=\"referenced_tweets.id\")"
   ]
  },
  {
   "cell_type": "markdown",
   "id": "7f187269",
   "metadata": {},
   "source": [
    "The `response` object is a tuple, and it consists of four items: `(data, includes, errors, meta)`.\n",
    "\n",
    "The `data` object contains the Tweets that are retrieved, and `meta` is the metadata for those Tweets. In this reponse object, `includes` and `errors` are empty, so I'm not sure what `includes` is yet."
   ]
  },
  {
   "cell_type": "code",
   "execution_count": 47,
   "id": "3518589f",
   "metadata": {
    "scrolled": true
   },
   "outputs": [
    {
     "name": "stdout",
     "output_type": "stream",
     "text": [
      "Tweet 0:\n",
      "RT @NoCode_November: Hello world! 👶\n",
      "\n",
      "I wanted to wait until Twitter updates my Twitter card but they're taking too long 🤷‍♀️\n",
      "\n",
      "I am here to…\n",
      "\n",
      "Tweet 1:\n",
      "HELLO World of Twitter, please help me. DO YOU GUYS OR GALS, know of any place which prints embroidered patches of cloth? Like embroidery of a logo on some cloth. Please RT. It's reallyyyyyy important. 💪🙏😭😍🥰🙌\n",
      "\n",
      "Tweet 2:\n",
      "Hello World (1634752986)\n",
      "\n",
      "Tweet 3:\n",
      "Hello in there, @jrpsaki....what color is the sky in your world? https://t.co/w9zbCHpBVW https://t.co/06EX1hY93H\n",
      "\n",
      "Tweet 4:\n",
      "RT @elyxionbieber: Can y'all imagine the exo chatroom? Kyungsoo sending voice messages telling everyone to have a good day. Kai responding…\n",
      "\n",
      "Tweet 5:\n",
      "RT @BLEUSSlDE: SAY HELLO TO MY HOPE WORLD 🌍 https://t.co/WN136FUvr1\n",
      "\n",
      "Tweet 6:\n",
      "hello world\n",
      "\n",
      "Tweet 7:\n",
      "@pjmzwhore Hello are you okay?.. I know we don't know eachother but I'm here okay? Dont do it, I know the world is hard and it's very very evil but you can get through this, please talk to me.\n",
      "\n",
      "Tweet 8:\n",
      "hello world\n",
      "\n",
      "Tweet 9:\n",
      "@EmpressNeko_ Hello! I'm Irina from Russia. I'm digital artist and I love to paint characters from the world of fantasy, cyberpunk or just beautiful portraits\n",
      "https://t.co/lpzdKr9LEE\n",
      "\n",
      "Tweet 10:\n",
      "RT @amanmadra: Hello friends, \n",
      "I am looking for people from Pakistan (Punjab) that have an ancestor who fought in World War One. Even if yo…\n",
      "\n",
      "Tweet 11:\n",
      "hello world\n",
      "\n",
      "Tweet 12:\n",
      "RT @Zcyrhon91208: HELLO WORLD DON'T SLEEP ON SB19!!!!!\n",
      "\n",
      "D2matanda SiJosh\n",
      "@SB19Official\n",
      "#SB19MTVEMANominee\n",
      "\n",
      "#RAWRAwards2021 #RAWRATIN\n",
      "\n",
      "Tweet 13:\n",
      "RT @SupaFoundation: Hello world! We are  #SupaFoundation! An #NFT based #playtoearn game. We are looking for new recruits to join our journ…\n",
      "\n",
      "Tweet 14:\n",
      "Hello world!\n",
      "\n",
      "Tweet 15:\n",
      "RT @elyxionbieber: Can y'all imagine the exo chatroom? Kyungsoo sending voice messages telling everyone to have a good day. Kai responding…\n",
      "\n",
      "Tweet 16:\n",
      "RT @_eduardoharo_: Hello everyone, I don’t usually ask for help but I’m desperate today. My kitty Jynx is very sick and I need any help I c…\n",
      "\n",
      "Tweet 17:\n",
      "RT @BLEUSSlDE: SAY HELLO TO MY HOPE WORLD 🌍 https://t.co/WN136FUvr1\n",
      "\n",
      "Tweet 18:\n",
      "Hello world! Good afternoon from the Idle Machinery Twitter bot on Raspberry Pi. At 02:00PM EDT on 10/20/2021 my CPU temperature is 123.8℉. \n",
      "#raspberrypi #diy #bot\n",
      "\n",
      "Tweet 19:\n",
      "RT @amanmadra: Hello friends, \n",
      "I am looking for people from Pakistan (Punjab) that have an ancestor who fought in World War One. Even if yo…\n",
      "\n"
     ]
    }
   ],
   "source": [
    "# printing Tweets\n",
    "for i in range(len(response[0])):\n",
    "    print(f\"Tweet {i}:\")\n",
    "    print(response[0][i]['text']+\"\\n\")"
   ]
  },
  {
   "cell_type": "code",
   "execution_count": 94,
   "id": "03501810",
   "metadata": {},
   "outputs": [
    {
     "data": {
      "text/plain": [
       "{'newest_id': '1450885307889426436',\n",
       " 'oldest_id': '1450884517594546179',\n",
       " 'result_count': 20,\n",
       " 'next_token': 'b26v89c19zqg8o3fpdv5sr0kag6odo2pxlfk0m3q1pmyl'}"
      ]
     },
     "execution_count": 94,
     "metadata": {},
     "output_type": "execute_result"
    }
   ],
   "source": [
    "# printing metadata for Tweets in response\n",
    "response[3]"
   ]
  },
  {
   "cell_type": "code",
   "execution_count": 54,
   "id": "fde5306f",
   "metadata": {},
   "outputs": [
    {
     "data": {
      "text/plain": [
       "\"Hello world! 👶\\n\\nI wanted to wait until Twitter updates my Twitter card but they're taking too long 🤷\\u200d♀️\\n\\nI am here to help you build 💪 &amp; launch 🚀 your #NoCode projects using at least 1 of the participating NoCode tools!\\n\\nClaim your free tickets NOW! https://t.co/Ul652SvkhN\""
      ]
     },
     "execution_count": 54,
     "metadata": {},
     "output_type": "execute_result"
    }
   ],
   "source": [
    "# retrieving full text of retweeted Tweet\n",
    "retweet_id = response[0][0].referenced_tweets[0].id\n",
    "retweet = api2.get_tweet(retweet_id)\n",
    "retweet[0].text"
   ]
  },
  {
   "cell_type": "code",
   "execution_count": 65,
   "id": "cfced52f",
   "metadata": {},
   "outputs": [],
   "source": [
    "response[0][0]['author_id']"
   ]
  },
  {
   "cell_type": "code",
   "execution_count": 147,
   "id": "cb9f66cc",
   "metadata": {},
   "outputs": [],
   "source": [
    "# function to retrieve Tweets from the past 7 days relevant to a query\n",
    "def search_7(query, start_date=None, end_date=None, max_results=20):\n",
    "    \n",
    "    # initializing API v1.1 instance\n",
    "    api_2 = init_api_2()\n",
    "    \n",
    "    # parsing dates passed into function\n",
    "    from dateutil import parser\n",
    "    if start_date:\n",
    "        start_date = parser.parse(start_date)\n",
    "    if end_date:\n",
    "        end_date = parser.parse(end_date)\n",
    "    \n",
    "    # retrieving Tweets between start_date and end_date relevant to query\n",
    "    response = api_2.search_recent_tweets(query=f\"({query}) lang:en\",\n",
    "                                         start_time=start_date,\n",
    "                                         end_time=end_date,\n",
    "                                         max_results=max_results,\n",
    "                                         expansions=[\"author_id\", \"referenced_tweets.id\"])\n",
    "    \n",
    "    # adding Tweet data to DataFrame\n",
    "    tweets = pd.DataFrame(columns=[\"Text\", \"Author ID\", \"Referenced Tweet IDs\"])\n",
    "    tweets.index.name = \"Tweet ID\"\n",
    "    for i in range(len(response[0])):\n",
    "        tweet = response[0][i]\n",
    "        tweet_id = tweet.id\n",
    "        text = tweet.text\n",
    "        author_id = tweet.author_id\n",
    "        if tweet.referenced_tweets:\n",
    "            retweet_ids = [retweet.id for retweet in tweet.referenced_tweets]\n",
    "        else:\n",
    "            retweet_ids = None\n",
    "        tweets.loc[tweet_id] = [text, author_id, retweet_ids]\n",
    "    return tweets"
   ]
  },
  {
   "cell_type": "code",
   "execution_count": 150,
   "id": "3243df0e",
   "metadata": {},
   "outputs": [
    {
     "name": "stdout",
     "output_type": "stream",
     "text": [
      "20\n"
     ]
    },
    {
     "data": {
      "text/html": [
       "<div>\n",
       "<style scoped>\n",
       "    .dataframe tbody tr th:only-of-type {\n",
       "        vertical-align: middle;\n",
       "    }\n",
       "\n",
       "    .dataframe tbody tr th {\n",
       "        vertical-align: top;\n",
       "    }\n",
       "\n",
       "    .dataframe thead th {\n",
       "        text-align: right;\n",
       "    }\n",
       "</style>\n",
       "<table border=\"1\" class=\"dataframe\">\n",
       "  <thead>\n",
       "    <tr style=\"text-align: right;\">\n",
       "      <th></th>\n",
       "      <th>Text</th>\n",
       "      <th>Author ID</th>\n",
       "      <th>Referenced Tweet IDs</th>\n",
       "    </tr>\n",
       "    <tr>\n",
       "      <th>Tweet ID</th>\n",
       "      <th></th>\n",
       "      <th></th>\n",
       "      <th></th>\n",
       "    </tr>\n",
       "  </thead>\n",
       "  <tbody>\n",
       "    <tr>\n",
       "      <th>1450922732149956613</th>\n",
       "      <td>RT @LauraHotWifeX: Hello Twitter,\\n\\nI’m takin...</td>\n",
       "      <td>801555020172972037</td>\n",
       "      <td>[1450911864041398273]</td>\n",
       "    </tr>\n",
       "    <tr>\n",
       "      <th>1450922727787749377</th>\n",
       "      <td>RT @vcbxvs: Hello world, Twitter deleted my ac...</td>\n",
       "      <td>1235652376914038784</td>\n",
       "      <td>[1450909359953874957]</td>\n",
       "    </tr>\n",
       "    <tr>\n",
       "      <th>1450922690382950401</th>\n",
       "      <td>Hello twitter world hehe💓 Just in case that yo...</td>\n",
       "      <td>3281433068</td>\n",
       "      <td>None</td>\n",
       "    </tr>\n",
       "    <tr>\n",
       "      <th>1450922674922737664</th>\n",
       "      <td>RT @AdiPolak: Getting into data science/engine...</td>\n",
       "      <td>2717113375</td>\n",
       "      <td>[1450681808220270592]</td>\n",
       "    </tr>\n",
       "    <tr>\n",
       "      <th>1450922623634853889</th>\n",
       "      <td>RT @elyxionbieber: Can y'all imagine the exo c...</td>\n",
       "      <td>1355136001681682434</td>\n",
       "      <td>[1450846125041143811]</td>\n",
       "    </tr>\n",
       "    <tr>\n",
       "      <th>1450922529434988544</th>\n",
       "      <td>@SmutNetwork Hello world! I'm the Emperor and ...</td>\n",
       "      <td>1210412532025847809</td>\n",
       "      <td>[1450900063564222467]</td>\n",
       "    </tr>\n",
       "    <tr>\n",
       "      <th>1450922523839930371</th>\n",
       "      <td>RT @Scenario3d: Hello, world 👋\\n#TeamScenario ...</td>\n",
       "      <td>19071963</td>\n",
       "      <td>[1450842523845472260]</td>\n",
       "    </tr>\n",
       "    <tr>\n",
       "      <th>1450922504478994432</th>\n",
       "      <td>RT @SolDucksNFT: Hello world!\\n\\nWelcome to th...</td>\n",
       "      <td>35068584</td>\n",
       "      <td>[1450135607930404867]</td>\n",
       "    </tr>\n",
       "    <tr>\n",
       "      <th>1450922387525013509</th>\n",
       "      <td>RT @AdiPolak: Getting into data science/engine...</td>\n",
       "      <td>619846999</td>\n",
       "      <td>[1450681808220270592]</td>\n",
       "    </tr>\n",
       "    <tr>\n",
       "      <th>1450922357086957581</th>\n",
       "      <td>RT @akcentofficial: Hello Pakistan, \\nThis tim...</td>\n",
       "      <td>1440634045960908806</td>\n",
       "      <td>[1448676916324614145]</td>\n",
       "    </tr>\n",
       "    <tr>\n",
       "      <th>1450922274685689859</th>\n",
       "      <td>Hello, world. 1634761801.6749368</td>\n",
       "      <td>916208448475295744</td>\n",
       "      <td>None</td>\n",
       "    </tr>\n",
       "    <tr>\n",
       "      <th>1450922249104642055</th>\n",
       "      <td>Hello world!</td>\n",
       "      <td>1450920609949626372</td>\n",
       "      <td>None</td>\n",
       "    </tr>\n",
       "    <tr>\n",
       "      <th>1450922201948082176</th>\n",
       "      <td>RT @_eduardoharo_: Hello everyone, I don’t usu...</td>\n",
       "      <td>275844950</td>\n",
       "      <td>[1450858971246518272]</td>\n",
       "    </tr>\n",
       "    <tr>\n",
       "      <th>1450922131596800000</th>\n",
       "      <td>RT @EFajardo_MHS: Hello world! My name is Ava ...</td>\n",
       "      <td>1008953453673156608</td>\n",
       "      <td>[1450836219030646784]</td>\n",
       "    </tr>\n",
       "    <tr>\n",
       "      <th>1450922112978403335</th>\n",
       "      <td>Hello World (1634761763)</td>\n",
       "      <td>930007300525510657</td>\n",
       "      <td>None</td>\n",
       "    </tr>\n",
       "    <tr>\n",
       "      <th>1450922100643045378</th>\n",
       "      <td>Hello #Brewers worldwide 🌍 \\n@CafeSwapFinance ...</td>\n",
       "      <td>1434771287465922567</td>\n",
       "      <td>None</td>\n",
       "    </tr>\n",
       "    <tr>\n",
       "      <th>1450922058309906436</th>\n",
       "      <td>RT @amanmadra: Hello friends, \\nI am looking f...</td>\n",
       "      <td>841308038858436608</td>\n",
       "      <td>[1450837803546316805]</td>\n",
       "    </tr>\n",
       "    <tr>\n",
       "      <th>1450922041742405632</th>\n",
       "      <td>Hello World!</td>\n",
       "      <td>1242149898142674944</td>\n",
       "      <td>None</td>\n",
       "    </tr>\n",
       "    <tr>\n",
       "      <th>1450922016819777536</th>\n",
       "      <td>Hello World! Listen to this song! https://t.co...</td>\n",
       "      <td>86429307</td>\n",
       "      <td>None</td>\n",
       "    </tr>\n",
       "    <tr>\n",
       "      <th>1450921994447425551</th>\n",
       "      <td>RT @KristinBaver: Hello...what have we here? M...</td>\n",
       "      <td>267527746</td>\n",
       "      <td>[1450903935204614147]</td>\n",
       "    </tr>\n",
       "  </tbody>\n",
       "</table>\n",
       "</div>"
      ],
      "text/plain": [
       "                                                                  Text  \\\n",
       "Tweet ID                                                                 \n",
       "1450922732149956613  RT @LauraHotWifeX: Hello Twitter,\\n\\nI’m takin...   \n",
       "1450922727787749377  RT @vcbxvs: Hello world, Twitter deleted my ac...   \n",
       "1450922690382950401  Hello twitter world hehe💓 Just in case that yo...   \n",
       "1450922674922737664  RT @AdiPolak: Getting into data science/engine...   \n",
       "1450922623634853889  RT @elyxionbieber: Can y'all imagine the exo c...   \n",
       "1450922529434988544  @SmutNetwork Hello world! I'm the Emperor and ...   \n",
       "1450922523839930371  RT @Scenario3d: Hello, world 👋\\n#TeamScenario ...   \n",
       "1450922504478994432  RT @SolDucksNFT: Hello world!\\n\\nWelcome to th...   \n",
       "1450922387525013509  RT @AdiPolak: Getting into data science/engine...   \n",
       "1450922357086957581  RT @akcentofficial: Hello Pakistan, \\nThis tim...   \n",
       "1450922274685689859                   Hello, world. 1634761801.6749368   \n",
       "1450922249104642055                                       Hello world!   \n",
       "1450922201948082176  RT @_eduardoharo_: Hello everyone, I don’t usu...   \n",
       "1450922131596800000  RT @EFajardo_MHS: Hello world! My name is Ava ...   \n",
       "1450922112978403335                           Hello World (1634761763)   \n",
       "1450922100643045378  Hello #Brewers worldwide 🌍 \\n@CafeSwapFinance ...   \n",
       "1450922058309906436  RT @amanmadra: Hello friends, \\nI am looking f...   \n",
       "1450922041742405632                                       Hello World!   \n",
       "1450922016819777536  Hello World! Listen to this song! https://t.co...   \n",
       "1450921994447425551  RT @KristinBaver: Hello...what have we here? M...   \n",
       "\n",
       "                               Author ID   Referenced Tweet IDs  \n",
       "Tweet ID                                                         \n",
       "1450922732149956613   801555020172972037  [1450911864041398273]  \n",
       "1450922727787749377  1235652376914038784  [1450909359953874957]  \n",
       "1450922690382950401           3281433068                   None  \n",
       "1450922674922737664           2717113375  [1450681808220270592]  \n",
       "1450922623634853889  1355136001681682434  [1450846125041143811]  \n",
       "1450922529434988544  1210412532025847809  [1450900063564222467]  \n",
       "1450922523839930371             19071963  [1450842523845472260]  \n",
       "1450922504478994432             35068584  [1450135607930404867]  \n",
       "1450922387525013509            619846999  [1450681808220270592]  \n",
       "1450922357086957581  1440634045960908806  [1448676916324614145]  \n",
       "1450922274685689859   916208448475295744                   None  \n",
       "1450922249104642055  1450920609949626372                   None  \n",
       "1450922201948082176            275844950  [1450858971246518272]  \n",
       "1450922131596800000  1008953453673156608  [1450836219030646784]  \n",
       "1450922112978403335   930007300525510657                   None  \n",
       "1450922100643045378  1434771287465922567                   None  \n",
       "1450922058309906436   841308038858436608  [1450837803546316805]  \n",
       "1450922041742405632  1242149898142674944                   None  \n",
       "1450922016819777536             86429307                   None  \n",
       "1450921994447425551            267527746  [1450903935204614147]  "
      ]
     },
     "execution_count": 150,
     "metadata": {},
     "output_type": "execute_result"
    }
   ],
   "source": [
    "test = search_7(\"hello world\")\n",
    "print(len(test))\n",
    "test"
   ]
  },
  {
   "cell_type": "markdown",
   "id": "7fa88ebe",
   "metadata": {},
   "source": [
    "## 30-Day/Full Archive Search\n",
    "\n",
    "We can access 30-day and full archive searches without an Academic API package with a premium development environment through the Twitter API. This requires interfacing with the API v1.1, as opposed to v2 in the Recent Search.\n",
    "\n",
    "The 30-day search can receive 250 requests and 25,000 Tweets per month, while the full archive search can receive 50 requests and 5,000 Tweets per month."
   ]
  },
  {
   "cell_type": "code",
   "execution_count": 9,
   "id": "72a19d68",
   "metadata": {},
   "outputs": [],
   "source": [
    "# initializing API v1.1\n",
    "api1 = tweepy.API(auth)"
   ]
  },
  {
   "cell_type": "code",
   "execution_count": 10,
   "id": "2e0c8547",
   "metadata": {},
   "outputs": [],
   "source": [
    "response_30 = api1.search_30_day(label=\"30day\", query=\"hello world lang:en\", maxResults=20)"
   ]
  },
  {
   "cell_type": "code",
   "execution_count": 11,
   "id": "e4c6540d",
   "metadata": {
    "scrolled": true
   },
   "outputs": [
    {
     "data": {
      "text/plain": [
       "20"
      ]
     },
     "execution_count": 11,
     "metadata": {},
     "output_type": "execute_result"
    }
   ],
   "source": [
    "len(response_30)"
   ]
  },
  {
   "cell_type": "code",
   "execution_count": 12,
   "id": "d4e094f0",
   "metadata": {},
   "outputs": [
    {
     "data": {
      "text/plain": [
       "tweepy.models.Status"
      ]
     },
     "execution_count": 12,
     "metadata": {},
     "output_type": "execute_result"
    }
   ],
   "source": [
    "type(response_30[0])"
   ]
  },
  {
   "cell_type": "markdown",
   "id": "d8966a38",
   "metadata": {},
   "source": [
    "The `tweepy.models.Status` object contains a lot of data about the Tweet, such as its text, its author, and various aspects of metadata about the Tweet's creation and interactions."
   ]
  },
  {
   "cell_type": "code",
   "execution_count": 13,
   "id": "84849572",
   "metadata": {},
   "outputs": [
    {
     "data": {
      "text/plain": [
       "{'created_at': 'Wed Oct 20 17:06:26 +0000 2021',\n",
       " 'id': 1450871038364037120,\n",
       " 'id_str': '1450871038364037120',\n",
       " 'text': \"RT @SaitamaDude: Hello #SaitamaWolfPack!!! \\n\\nI've made a youtube channel with a quick and easy video on how to purchase #Saitama easily bef…\",\n",
       " 'source': '<a href=\"https://mobile.twitter.com\" rel=\"nofollow\">Twitter Web App</a>',\n",
       " 'truncated': False,\n",
       " 'in_reply_to_status_id': None,\n",
       " 'in_reply_to_status_id_str': None,\n",
       " 'in_reply_to_user_id': None,\n",
       " 'in_reply_to_user_id_str': None,\n",
       " 'in_reply_to_screen_name': None,\n",
       " 'user': {'id': 1397553132,\n",
       "  'id_str': '1397553132',\n",
       "  'name': 'koko kaye',\n",
       "  'screen_name': 'koko_kaye',\n",
       "  'location': None,\n",
       "  'url': None,\n",
       "  'description': '“You are never too old to set another goal, or to dream a new dream.” C.S. Lewis\\n\\nMy tweets/retweets are not financial advice. \\nDYOR | Join the #SaitamaWolfPack',\n",
       "  'translator_type': 'none',\n",
       "  'protected': False,\n",
       "  'verified': False,\n",
       "  'followers_count': 870,\n",
       "  'friends_count': 1046,\n",
       "  'listed_count': 1,\n",
       "  'favourites_count': 16962,\n",
       "  'statuses_count': 11427,\n",
       "  'created_at': 'Thu May 02 16:19:25 +0000 2013',\n",
       "  'utc_offset': None,\n",
       "  'time_zone': None,\n",
       "  'geo_enabled': False,\n",
       "  'lang': None,\n",
       "  'contributors_enabled': False,\n",
       "  'is_translator': False,\n",
       "  'profile_background_color': 'C0DEED',\n",
       "  'profile_background_image_url': 'http://abs.twimg.com/images/themes/theme1/bg.png',\n",
       "  'profile_background_image_url_https': 'https://abs.twimg.com/images/themes/theme1/bg.png',\n",
       "  'profile_background_tile': False,\n",
       "  'profile_link_color': '1DA1F2',\n",
       "  'profile_sidebar_border_color': 'C0DEED',\n",
       "  'profile_sidebar_fill_color': 'DDEEF6',\n",
       "  'profile_text_color': '333333',\n",
       "  'profile_use_background_image': True,\n",
       "  'profile_image_url': 'http://pbs.twimg.com/profile_images/1439062285067210753/6bh6uFYa_normal.jpg',\n",
       "  'profile_image_url_https': 'https://pbs.twimg.com/profile_images/1439062285067210753/6bh6uFYa_normal.jpg',\n",
       "  'profile_banner_url': 'https://pbs.twimg.com/profile_banners/1397553132/1631934161',\n",
       "  'default_profile': True,\n",
       "  'default_profile_image': False,\n",
       "  'following': None,\n",
       "  'follow_request_sent': None,\n",
       "  'notifications': None,\n",
       "  'withheld_in_countries': []},\n",
       " 'geo': None,\n",
       " 'coordinates': None,\n",
       " 'place': None,\n",
       " 'contributors': None,\n",
       " 'retweeted_status': {'created_at': 'Wed Oct 20 17:00:35 +0000 2021',\n",
       "  'id': 1450869569128579075,\n",
       "  'id_str': '1450869569128579075',\n",
       "  'text': \"Hello #SaitamaWolfPack!!! \\n\\nI've made a youtube channel with a quick and easy video on how to purchase #Saitama eas… https://t.co/6fZBBxDhqq\",\n",
       "  'source': '<a href=\"http://twitter.com/download/iphone\" rel=\"nofollow\">Twitter for iPhone</a>',\n",
       "  'truncated': True,\n",
       "  'in_reply_to_status_id': None,\n",
       "  'in_reply_to_status_id_str': None,\n",
       "  'in_reply_to_user_id': None,\n",
       "  'in_reply_to_user_id_str': None,\n",
       "  'in_reply_to_screen_name': None,\n",
       "  'user': {'id': 1449121216044802053,\n",
       "   'id_str': '1449121216044802053',\n",
       "   'name': 'Saitama Dude',\n",
       "   'screen_name': 'SaitamaDude',\n",
       "   'location': 'Bend, OR',\n",
       "   'url': 'https://linktr.ee/daftodist',\n",
       "   'description': '#SaitamaWolfPack #SaitamaInu #SAITA 💸 🙌🏼💎 Not Financial Advice - Digital Artist & Musician 🐺',\n",
       "   'translator_type': 'none',\n",
       "   'protected': False,\n",
       "   'verified': False,\n",
       "   'followers_count': 436,\n",
       "   'friends_count': 94,\n",
       "   'listed_count': 0,\n",
       "   'favourites_count': 568,\n",
       "   'statuses_count': 277,\n",
       "   'created_at': 'Fri Oct 15 21:13:24 +0000 2021',\n",
       "   'utc_offset': None,\n",
       "   'time_zone': None,\n",
       "   'geo_enabled': False,\n",
       "   'lang': None,\n",
       "   'contributors_enabled': False,\n",
       "   'is_translator': False,\n",
       "   'profile_background_color': 'F5F8FA',\n",
       "   'profile_background_image_url': '',\n",
       "   'profile_background_image_url_https': '',\n",
       "   'profile_background_tile': False,\n",
       "   'profile_link_color': '1DA1F2',\n",
       "   'profile_sidebar_border_color': 'C0DEED',\n",
       "   'profile_sidebar_fill_color': 'DDEEF6',\n",
       "   'profile_text_color': '333333',\n",
       "   'profile_use_background_image': True,\n",
       "   'profile_image_url': 'http://pbs.twimg.com/profile_images/1449122165471678467/uqBIIQb7_normal.jpg',\n",
       "   'profile_image_url_https': 'https://pbs.twimg.com/profile_images/1449122165471678467/uqBIIQb7_normal.jpg',\n",
       "   'profile_banner_url': 'https://pbs.twimg.com/profile_banners/1449121216044802053/1634430198',\n",
       "   'default_profile': True,\n",
       "   'default_profile_image': False,\n",
       "   'following': None,\n",
       "   'follow_request_sent': None,\n",
       "   'notifications': None,\n",
       "   'withheld_in_countries': []},\n",
       "  'geo': None,\n",
       "  'coordinates': None,\n",
       "  'place': None,\n",
       "  'contributors': None,\n",
       "  'is_quote_status': False,\n",
       "  'extended_tweet': {'full_text': \"Hello #SaitamaWolfPack!!! \\n\\nI've made a youtube channel with a quick and easy video on how to purchase #Saitama easily before the BitMart listing \\n\\nWould mean the world if you could like &amp; subscribe 🐺 Spread the word to those who are still on the fence!\\n\\nhttps://t.co/m9n6CmwnMc\",\n",
       "   'display_text_range': [0, 282],\n",
       "   'entities': {'hashtags': [{'text': 'SaitamaWolfPack', 'indices': [6, 22]},\n",
       "     {'text': 'Saitama', 'indices': [103, 111]}],\n",
       "    'urls': [{'url': 'https://t.co/m9n6CmwnMc',\n",
       "      'expanded_url': 'https://youtu.be/jpDjmQTgUbQ',\n",
       "      'display_url': 'youtu.be/jpDjmQTgUbQ',\n",
       "      'indices': [259, 282]}],\n",
       "    'user_mentions': [],\n",
       "    'symbols': []}},\n",
       "  'quote_count': 0,\n",
       "  'reply_count': 0,\n",
       "  'retweet_count': 4,\n",
       "  'favorite_count': 8,\n",
       "  'entities': {'hashtags': [{'text': 'SaitamaWolfPack', 'indices': [6, 22]},\n",
       "    {'text': 'Saitama', 'indices': [103, 111]}],\n",
       "   'urls': [{'url': 'https://t.co/6fZBBxDhqq',\n",
       "     'expanded_url': 'https://twitter.com/i/web/status/1450869569128579075',\n",
       "     'display_url': 'twitter.com/i/web/status/1…',\n",
       "     'indices': [117, 140]}],\n",
       "   'user_mentions': [],\n",
       "   'symbols': []},\n",
       "  'favorited': False,\n",
       "  'retweeted': False,\n",
       "  'possibly_sensitive': False,\n",
       "  'filter_level': 'low',\n",
       "  'lang': 'en'},\n",
       " 'is_quote_status': False,\n",
       " 'quote_count': 0,\n",
       " 'reply_count': 0,\n",
       " 'retweet_count': 0,\n",
       " 'favorite_count': 0,\n",
       " 'entities': {'hashtags': [{'text': 'SaitamaWolfPack', 'indices': [23, 39]},\n",
       "   {'text': 'Saitama', 'indices': [120, 128]}],\n",
       "  'urls': [],\n",
       "  'user_mentions': [{'screen_name': 'SaitamaDude',\n",
       "    'name': 'Saitama Dude',\n",
       "    'id': 1449121216044802053,\n",
       "    'id_str': '1449121216044802053',\n",
       "    'indices': [3, 15]}],\n",
       "  'symbols': []},\n",
       " 'favorited': False,\n",
       " 'retweeted': False,\n",
       " 'filter_level': 'low',\n",
       " 'lang': 'en',\n",
       " 'matching_rules': [{'tag': None}]}"
      ]
     },
     "execution_count": 13,
     "metadata": {},
     "output_type": "execute_result"
    }
   ],
   "source": [
    "response_30[0]._json"
   ]
  },
  {
   "cell_type": "code",
   "execution_count": 151,
   "id": "29cc5eac",
   "metadata": {},
   "outputs": [
    {
     "name": "stdout",
     "output_type": "stream",
     "text": [
      "created_at\n",
      "id\n",
      "id_str\n",
      "text\n",
      "source\n",
      "truncated\n",
      "in_reply_to_status_id\n",
      "in_reply_to_status_id_str\n",
      "in_reply_to_user_id\n",
      "in_reply_to_user_id_str\n",
      "in_reply_to_screen_name\n",
      "user\n",
      "geo\n",
      "coordinates\n",
      "place\n",
      "contributors\n",
      "retweeted_status\n",
      "is_quote_status\n",
      "quote_count\n",
      "reply_count\n",
      "retweet_count\n",
      "favorite_count\n",
      "entities\n",
      "favorited\n",
      "retweeted\n",
      "filter_level\n",
      "lang\n",
      "matching_rules\n"
     ]
    }
   ],
   "source": [
    "for i in response_30[0]._json:\n",
    "    print(i)"
   ]
  },
  {
   "cell_type": "code",
   "execution_count": 14,
   "id": "f75efc47",
   "metadata": {},
   "outputs": [],
   "source": [
    "response_full = api1.search_full_archive(label=\"full\", query=\"hello world lang:en\", maxResults=20)"
   ]
  },
  {
   "cell_type": "code",
   "execution_count": 15,
   "id": "609a89f3",
   "metadata": {},
   "outputs": [
    {
     "data": {
      "text/plain": [
       "{'created_at': 'Wed Oct 20 17:06:38 +0000 2021',\n",
       " 'id': 1450871091174510593,\n",
       " 'id_str': '1450871091174510593',\n",
       " 'text': 'Hello World (1634749599)',\n",
       " 'source': '<a href=\"https://www.keysight.com/\" rel=\"nofollow\">Nemo Outdoor</a>',\n",
       " 'truncated': False,\n",
       " 'in_reply_to_status_id': None,\n",
       " 'in_reply_to_status_id_str': None,\n",
       " 'in_reply_to_user_id': None,\n",
       " 'in_reply_to_user_id_str': None,\n",
       " 'in_reply_to_screen_name': None,\n",
       " 'user': {'id': 930007300525510657,\n",
       "  'id_str': '930007300525510657',\n",
       "  'name': 'Bench Mark',\n",
       "  'screen_name': 'bnchmrk415',\n",
       "  'location': None,\n",
       "  'url': None,\n",
       "  'description': None,\n",
       "  'translator_type': 'none',\n",
       "  'protected': False,\n",
       "  'verified': False,\n",
       "  'followers_count': 1,\n",
       "  'friends_count': 0,\n",
       "  'listed_count': 0,\n",
       "  'favourites_count': 0,\n",
       "  'statuses_count': 55931,\n",
       "  'created_at': 'Mon Nov 13 09:39:53 +0000 2017',\n",
       "  'utc_offset': None,\n",
       "  'time_zone': None,\n",
       "  'geo_enabled': False,\n",
       "  'lang': None,\n",
       "  'contributors_enabled': False,\n",
       "  'is_translator': False,\n",
       "  'profile_background_color': 'F5F8FA',\n",
       "  'profile_background_image_url': '',\n",
       "  'profile_background_image_url_https': '',\n",
       "  'profile_background_tile': False,\n",
       "  'profile_link_color': '1DA1F2',\n",
       "  'profile_sidebar_border_color': 'C0DEED',\n",
       "  'profile_sidebar_fill_color': 'DDEEF6',\n",
       "  'profile_text_color': '333333',\n",
       "  'profile_use_background_image': True,\n",
       "  'profile_image_url': 'http://abs.twimg.com/sticky/default_profile_images/default_profile_normal.png',\n",
       "  'profile_image_url_https': 'https://abs.twimg.com/sticky/default_profile_images/default_profile_normal.png',\n",
       "  'default_profile': True,\n",
       "  'default_profile_image': False,\n",
       "  'following': None,\n",
       "  'follow_request_sent': None,\n",
       "  'notifications': None,\n",
       "  'withheld_in_countries': []},\n",
       " 'geo': None,\n",
       " 'coordinates': None,\n",
       " 'place': None,\n",
       " 'contributors': None,\n",
       " 'is_quote_status': False,\n",
       " 'quote_count': 0,\n",
       " 'reply_count': 0,\n",
       " 'retweet_count': 0,\n",
       " 'favorite_count': 0,\n",
       " 'entities': {'hashtags': [], 'urls': [], 'user_mentions': [], 'symbols': []},\n",
       " 'favorited': False,\n",
       " 'retweeted': False,\n",
       " 'filter_level': 'low',\n",
       " 'lang': 'en',\n",
       " 'matching_rules': [{'tag': None}]}"
      ]
     },
     "execution_count": 15,
     "metadata": {},
     "output_type": "execute_result"
    }
   ],
   "source": [
    "response_full[0]._json"
   ]
  },
  {
   "cell_type": "markdown",
   "id": "db124f67",
   "metadata": {},
   "source": [
    "## Stream\n",
    "\n",
    "A Stream is an object that can filter and sample realtime Tweets."
   ]
  },
  {
   "cell_type": "code",
   "execution_count": 11,
   "id": "e5750ee5",
   "metadata": {},
   "outputs": [
    {
     "data": {
      "text/plain": [
       "<tweepy.streaming.Stream at 0x7fc4d6038130>"
      ]
     },
     "execution_count": 11,
     "metadata": {},
     "output_type": "execute_result"
    }
   ],
   "source": [
    "# instantiating Stream object\n",
    "stream = tweepy.Stream(consumer_key, consumer_secret, access_token, access_secret)\n",
    "stream"
   ]
  },
  {
   "cell_type": "code",
   "execution_count": null,
   "id": "059b07ad",
   "metadata": {},
   "outputs": [],
   "source": [
    "stream.sample(languages=[\"en\"])"
   ]
  },
  {
   "cell_type": "code",
   "execution_count": null,
   "id": "67bfe30f",
   "metadata": {},
   "outputs": [],
   "source": []
  }
 ],
 "metadata": {
  "kernelspec": {
   "display_name": "Python 3 (ipykernel)",
   "language": "python",
   "name": "python3"
  },
  "language_info": {
   "codemirror_mode": {
    "name": "ipython",
    "version": 3
   },
   "file_extension": ".py",
   "mimetype": "text/x-python",
   "name": "python",
   "nbconvert_exporter": "python",
   "pygments_lexer": "ipython3",
   "version": "3.9.7"
  }
 },
 "nbformat": 4,
 "nbformat_minor": 5
}
